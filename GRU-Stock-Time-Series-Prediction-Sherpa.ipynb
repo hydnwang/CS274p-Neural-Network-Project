{
 "cells": [
  {
   "cell_type": "markdown",
   "metadata": {},
   "source": [
    "# Imports"
   ]
  },
  {
   "cell_type": "code",
   "execution_count": 1,
   "metadata": {},
   "outputs": [],
   "source": [
    "%matplotlib inline\n",
    "import tensorflow as tf\n",
    "import matplotlib.pyplot as plt\n",
    "import numpy as np\n",
    "import pandas as pd\n",
    "import os\n",
    "from sklearn.preprocessing import MinMaxScaler\n",
    "from sklearn.metrics import explained_variance_score\n",
    "from datetime import datetime"
   ]
  },
  {
   "cell_type": "code",
   "execution_count": 2,
   "metadata": {},
   "outputs": [],
   "source": [
    "from tensorflow.python.keras.models import Sequential\n",
    "from tensorflow.python.keras.layers import Input, Dense, GRU, Embedding, Activation, Dropout\n",
    "from tensorflow.python.keras.optimizers import RMSprop\n",
    "from tensorflow.python.keras.callbacks import EarlyStopping, ModelCheckpoint, TensorBoard, ReduceLROnPlateau\n",
    "from tensorflow.python.keras import regularizers\n",
    "from tensorflow.python.keras.initializers import RandomUniform"
   ]
  },
  {
   "cell_type": "code",
   "execution_count": 3,
   "metadata": {},
   "outputs": [],
   "source": [
    "import sherpa"
   ]
  },
  {
   "cell_type": "markdown",
   "metadata": {},
   "source": [
    "# Load Data"
   ]
  },
  {
   "cell_type": "code",
   "execution_count": 4,
   "metadata": {},
   "outputs": [],
   "source": [
    "#####################################################################################################\n",
    "################################ Select numbers of year of data #####################################\n",
    "#####################################################################################################\n",
    "year = 10 # years of data to compare 10 or 5"
   ]
  },
  {
   "cell_type": "code",
   "execution_count": 5,
   "metadata": {},
   "outputs": [],
   "source": [
    "cols = ['Date', 'Open', 'High', 'Low', 'Close', 'Adj Close', 'Volume'] \n",
    "\n",
    "PSIdf = pd.read_csv(r'stock_indices/PSI_{}y.csv'.format(year), usecols = cols).drop(columns = ['Adj Close'])\n",
    "SOXXdf = pd.read_csv(r'stock_indices/SOXX_{}y.csv'.format(year), usecols = cols).drop(columns = ['Adj Close'])\n",
    "USDdf = pd.read_csv(r'stock_indices/USD_{}y.csv'.format(year),  usecols = cols).drop(columns = ['Adj Close'])\n",
    "SMHdf = pd.read_csv(r'stock_indices/SMH_{}y.csv'.format(year),  usecols = cols).drop(columns = ['Adj Close'])\n",
    "SOXLdf = pd.read_csv(r'stock_indices/SOXL_{}y.csv'.format(year),  usecols = cols).drop(columns = ['Adj Close'])\n",
    "TSMdf = pd.read_csv(r'stock_indices/TSM_{}y.csv'.format(year),  usecols = cols).drop(columns = ['Adj Close'])"
   ]
  },
  {
   "cell_type": "code",
   "execution_count": 6,
   "metadata": {},
   "outputs": [],
   "source": [
    "restCol = lambda name: { h:   name + ' ' + h   for h in ['Volume', 'Close', 'Open', 'High', 'Low']}\n",
    "\n",
    "PSIdf.rename(columns = restCol('PSI'), inplace = True)\n",
    "SOXXdf.rename(columns = restCol('SOXX'), inplace = True)\n",
    "USDdf.rename(columns = restCol('USD'), inplace = True)\n",
    "SMHdf.rename(columns = restCol('SMH'), inplace = True)\n",
    "SOXLdf.rename(columns = restCol('SOXL'), inplace = True)\n",
    "TSMdf.rename(columns = restCol('TSM'), inplace = True)\n",
    "\n",
    "# if mergeAll:\n",
    "#     df = pd.merge(PSIdf, SOXXdf, how = 'inner', on = 'Date', sort=True).set_index(['Date']) \n",
    "#     df = pd.merge(df, USDdf, how = 'inner', on = 'Date', sort=True).set_index(['Date']) \n",
    "#     df = pd.merge(df, SMHdf, how = 'inner', on = 'Date', sort=True).set_index(['Date']) \n",
    "#     df = pd.merge(df, SOXLdf, how = 'inner', on = 'Date', sort=True).set_index(['Date'])  \n",
    "#     df = pd.merge(df, TSMdf, how = 'inner', on = 'Date', sort=True).set_index(['Date'])  "
   ]
  },
  {
   "cell_type": "code",
   "execution_count": 7,
   "metadata": {},
   "outputs": [],
   "source": [
    "######################################################################################################\n",
    "################################### Select the indice for input ######################################\n",
    "######################################################################################################\n",
    "indiceToCmpr = SMHdf #PSIdf # SOXXdf, USDdf, SMHdf, SOXLdf\n",
    "includeTargInInput = True"
   ]
  },
  {
   "cell_type": "code",
   "execution_count": 8,
   "metadata": {},
   "outputs": [],
   "source": [
    "df = pd.merge(indiceToCmpr, TSMdf, how = 'inner', on = 'Date', sort=True).set_index(['Date']) \n",
    "df['TSM Avg'] = (df['TSM High'] + df['TSM Low'])/2"
   ]
  },
  {
   "cell_type": "code",
   "execution_count": 9,
   "metadata": {},
   "outputs": [
    {
     "name": "stdout",
     "output_type": "stream",
     "text": [
      "('The input col is: ', Index([u'SMH Open', u'SMH High', u'SMH Low', u'SMH Close', u'SMH Volume',\n",
      "       u'TSM Open', u'TSM High', u'TSM Low', u'TSM Close', u'TSM Volume',\n",
      "       u'TSM Avg'],\n",
      "      dtype='object'))\n"
     ]
    }
   ],
   "source": [
    "target_col = ['TSM Avg']\n",
    "input_col = [col for col in df.columns if 'TSM' not in col] if not includeTargInInput else df.columns\n",
    "print(\"The input col is: \", input_col)"
   ]
  },
  {
   "cell_type": "code",
   "execution_count": 10,
   "metadata": {},
   "outputs": [],
   "source": [
    "#####################################################################################################\n",
    "################################### shift days ######################################################\n",
    "#####################################################################################################\n",
    "shift_steps = 5 #shift day"
   ]
  },
  {
   "cell_type": "code",
   "execution_count": 11,
   "metadata": {},
   "outputs": [],
   "source": [
    "#With shift\n",
    "if shift_steps:\n",
    "    df_targets = df[target_col].shift(-shift_steps)\n",
    "    y_data = df_targets.values[0:-shift_steps]\n",
    "    x_data = df[input_col].values[0:-shift_steps]\n",
    "else:\n",
    "    #No shift\n",
    "    df_targets = df[target_col]\n",
    "    y_data = df_targets.values\n",
    "    x_data = df[input_col].values"
   ]
  },
  {
   "cell_type": "markdown",
   "metadata": {},
   "source": [
    "### NumPy Arrays"
   ]
  },
  {
   "cell_type": "code",
   "execution_count": 12,
   "metadata": {},
   "outputs": [
    {
     "name": "stdout",
     "output_type": "stream",
     "text": [
      "<type 'numpy.ndarray'>\n",
      "('Shape:', (2261, 11))\n"
     ]
    }
   ],
   "source": [
    "print(type(x_data))\n",
    "print(\"Shape:\", x_data.shape)"
   ]
  },
  {
   "cell_type": "code",
   "execution_count": 13,
   "metadata": {},
   "outputs": [
    {
     "name": "stdout",
     "output_type": "stream",
     "text": [
      "<type 'numpy.ndarray'>\n",
      "('Shape:', (2261, 1))\n"
     ]
    }
   ],
   "source": [
    "print(type(y_data))\n",
    "print(\"Shape:\", y_data.shape)"
   ]
  },
  {
   "cell_type": "code",
   "execution_count": 14,
   "metadata": {},
   "outputs": [
    {
     "data": {
      "text/plain": [
       "2261"
      ]
     },
     "execution_count": 14,
     "metadata": {},
     "output_type": "execute_result"
    }
   ],
   "source": [
    "num_data = len(x_data)\n",
    "num_data"
   ]
  },
  {
   "cell_type": "code",
   "execution_count": 15,
   "metadata": {},
   "outputs": [],
   "source": [
    "train_split = 0.8"
   ]
  },
  {
   "cell_type": "code",
   "execution_count": 16,
   "metadata": {},
   "outputs": [
    {
     "data": {
      "text/plain": [
       "1808"
      ]
     },
     "execution_count": 16,
     "metadata": {},
     "output_type": "execute_result"
    }
   ],
   "source": [
    "num_train = int(train_split * num_data)\n",
    "num_train"
   ]
  },
  {
   "cell_type": "code",
   "execution_count": 17,
   "metadata": {},
   "outputs": [
    {
     "data": {
      "text/plain": [
       "453"
      ]
     },
     "execution_count": 17,
     "metadata": {},
     "output_type": "execute_result"
    }
   ],
   "source": [
    "num_test = num_data - num_train\n",
    "num_test"
   ]
  },
  {
   "cell_type": "code",
   "execution_count": 18,
   "metadata": {},
   "outputs": [
    {
     "data": {
      "text/plain": [
       "2261"
      ]
     },
     "execution_count": 18,
     "metadata": {},
     "output_type": "execute_result"
    }
   ],
   "source": [
    "x_train = x_data[0:num_train]\n",
    "x_test = x_data[num_train:]\n",
    "len(x_train) + len(x_test)"
   ]
  },
  {
   "cell_type": "code",
   "execution_count": 19,
   "metadata": {},
   "outputs": [
    {
     "data": {
      "text/plain": [
       "2261"
      ]
     },
     "execution_count": 19,
     "metadata": {},
     "output_type": "execute_result"
    }
   ],
   "source": [
    "y_train = y_data[0:num_train]\n",
    "y_test = y_data[num_train:]\n",
    "len(y_train) + len(y_test)"
   ]
  },
  {
   "cell_type": "code",
   "execution_count": 20,
   "metadata": {},
   "outputs": [
    {
     "data": {
      "text/plain": [
       "11"
      ]
     },
     "execution_count": 20,
     "metadata": {},
     "output_type": "execute_result"
    }
   ],
   "source": [
    "num_x_signals = x_data.shape[1]\n",
    "num_x_signals"
   ]
  },
  {
   "cell_type": "code",
   "execution_count": 21,
   "metadata": {},
   "outputs": [],
   "source": [
    "num_y_signals = y_data.shape[1] if len(target_col) > 1 else 1"
   ]
  },
  {
   "cell_type": "markdown",
   "metadata": {},
   "source": [
    "### Scaled Data"
   ]
  },
  {
   "cell_type": "code",
   "execution_count": 22,
   "metadata": {},
   "outputs": [
    {
     "name": "stdout",
     "output_type": "stream",
     "text": [
      "('Min:', 9.3)\n",
      "('Max:', 44473500.0)\n"
     ]
    }
   ],
   "source": [
    "print(\"Min:\", np.min(x_train))\n",
    "print(\"Max:\", np.max(x_train))"
   ]
  },
  {
   "cell_type": "code",
   "execution_count": 23,
   "metadata": {},
   "outputs": [],
   "source": [
    "x_scaler = MinMaxScaler()\n",
    "x_train_scaled = x_scaler.fit_transform(x_train) # calculate std and mean, store it into xscaler, apply that to transform\n",
    "x_test_scaled = x_scaler.transform(x_test)"
   ]
  },
  {
   "cell_type": "code",
   "execution_count": 24,
   "metadata": {},
   "outputs": [
    {
     "name": "stdout",
     "output_type": "stream",
     "text": [
      "('Min:', 0.0)\n",
      "('Max:', 1.0)\n"
     ]
    }
   ],
   "source": [
    "print(\"Min:\", np.min(x_train_scaled))\n",
    "print(\"Max:\", np.max(x_train_scaled))"
   ]
  },
  {
   "cell_type": "code",
   "execution_count": 25,
   "metadata": {},
   "outputs": [],
   "source": [
    "if num_y_signals == 1:\n",
    "    y_train = y_train.reshape(-1, 1)\n",
    "    y_test = y_test.reshape(-1, 1)     #reshape to fit numpy array of shape [n_samples, n_features]"
   ]
  },
  {
   "cell_type": "code",
   "execution_count": 26,
   "metadata": {},
   "outputs": [],
   "source": [
    "y_scaler = MinMaxScaler()\n",
    "y_train_scaled = y_scaler.fit_transform(y_train)\n",
    "y_test_scaled = y_scaler.transform(y_test)"
   ]
  },
  {
   "cell_type": "markdown",
   "metadata": {},
   "source": [
    "### Data Generator"
   ]
  },
  {
   "cell_type": "code",
   "execution_count": 27,
   "metadata": {},
   "outputs": [
    {
     "name": "stdout",
     "output_type": "stream",
     "text": [
      "(1808, 11)\n",
      "(1808, 1)\n"
     ]
    }
   ],
   "source": [
    "print(x_train_scaled.shape)\n",
    "print(y_train_scaled.shape)"
   ]
  },
  {
   "cell_type": "code",
   "execution_count": 28,
   "metadata": {},
   "outputs": [],
   "source": [
    "def batch_generator(batch_size, sequence_length):\n",
    "    \"\"\"\n",
    "    Generator function for creating random batches of training-data.\n",
    "    \"\"\"\n",
    "\n",
    "    # Infinite loop.\n",
    "    while True:\n",
    "        # Allocate a new array for the batch of input-signals.\n",
    "        x_shape = (batch_size, sequence_length, num_x_signals)\n",
    "        x_batch = np.zeros(shape=x_shape, dtype=np.float16)\n",
    "\n",
    "        # Allocate a new array for the batch of output-signals.\n",
    "        y_shape = (batch_size, sequence_length, num_y_signals)\n",
    "        y_batch = np.zeros(shape=y_shape, dtype=np.float16)\n",
    "\n",
    "        # Fill the batch with random sequences of data.\n",
    "        for i in range(batch_size):\n",
    "            # Get a random start-index.\n",
    "            # This points somewhere into the training-data.\n",
    "            idx = np.random.randint(num_train - sequence_length)\n",
    "            \n",
    "            # Copy the sequences of data starting at this index.\n",
    "            x_batch[i] = x_train_scaled[idx:idx+sequence_length]\n",
    "            y_batch[i] = y_train_scaled[idx:idx+sequence_length]\n",
    "        \n",
    "        yield (x_batch, y_batch)"
   ]
  },
  {
   "cell_type": "code",
   "execution_count": 29,
   "metadata": {},
   "outputs": [],
   "source": [
    "batch_size = 256"
   ]
  },
  {
   "cell_type": "code",
   "execution_count": 30,
   "metadata": {},
   "outputs": [],
   "source": [
    "sequence_length = 100"
   ]
  },
  {
   "cell_type": "code",
   "execution_count": 31,
   "metadata": {},
   "outputs": [],
   "source": [
    "generator = batch_generator(batch_size=batch_size,\n",
    "                            sequence_length=sequence_length)"
   ]
  },
  {
   "cell_type": "code",
   "execution_count": 32,
   "metadata": {},
   "outputs": [],
   "source": [
    "x_batch, y_batch = next(generator)"
   ]
  },
  {
   "cell_type": "code",
   "execution_count": 33,
   "metadata": {},
   "outputs": [
    {
     "name": "stdout",
     "output_type": "stream",
     "text": [
      "(256, 100, 11)\n",
      "(256, 100, 1)\n"
     ]
    }
   ],
   "source": [
    "print(x_batch.shape)\n",
    "print(y_batch.shape)"
   ]
  },
  {
   "cell_type": "code",
   "execution_count": 34,
   "metadata": {},
   "outputs": [
    {
     "data": {
      "text/plain": [
       "[<matplotlib.lines.Line2D at 0x1147a7250>]"
      ]
     },
     "execution_count": 34,
     "metadata": {},
     "output_type": "execute_result"
    },
    {
     "name": "stderr",
     "output_type": "stream",
     "text": [
      "DEBUG:matplotlib.font_manager:findfont: Matching :family=sans-serif:style=normal:variant=normal:weight=normal:stretch=normal:size=10.0 to DejaVu Sans (u'/usr/local/lib/python2.7/site-packages/matplotlib/mpl-data/fonts/ttf/DejaVuSans.ttf') with score of 0.050000\n"
     ]
    },
    {
     "data": {
      "image/png": "[encoded data removed]",
      "text/plain": [
       "<Figure size 432x288 with 1 Axes>"
      ]
     },
     "metadata": {
      "needs_background": "light"
     },
     "output_type": "display_data"
    }
   ],
   "source": [
    "batch = 0   # First sequence in the batch.\n",
    "signal = 0  # First signal from the 20 input-signals.\n",
    "seq = x_batch[batch, :, signal]\n",
    "plt.plot(seq)"
   ]
  },
  {
   "cell_type": "code",
   "execution_count": 35,
   "metadata": {},
   "outputs": [
    {
     "data": {
      "text/plain": [
       "[<matplotlib.lines.Line2D at 0x1148547d0>]"
      ]
     },
     "execution_count": 35,
     "metadata": {},
     "output_type": "execute_result"
    },
    {
     "data": {
      "image/png": "[encoded data removed]",
      "text/plain": [
       "<Figure size 432x288 with 1 Axes>"
      ]
     },
     "metadata": {
      "needs_background": "light"
     },
     "output_type": "display_data"
    }
   ],
   "source": [
    "seq = y_batch[batch, :, signal]\n",
    "plt.plot(seq)"
   ]
  },
  {
   "cell_type": "markdown",
   "metadata": {},
   "source": [
    "### Validation Set"
   ]
  },
  {
   "cell_type": "code",
   "execution_count": 36,
   "metadata": {},
   "outputs": [],
   "source": [
    "validation_data = (np.expand_dims(x_test_scaled, axis=0),\n",
    "                   np.expand_dims(y_test_scaled, axis=0))"
   ]
  },
  {
   "cell_type": "markdown",
   "metadata": {},
   "source": [
    "# Create the Recurrent Neural Network"
   ]
  },
  {
   "cell_type": "code",
   "execution_count": null,
   "metadata": {},
   "outputs": [],
   "source": []
  },
  {
   "cell_type": "code",
   "execution_count": null,
   "metadata": {},
   "outputs": [],
   "source": []
  },
  {
   "cell_type": "code",
   "execution_count": 37,
   "metadata": {
    "scrolled": true
   },
   "outputs": [],
   "source": [
    "\n",
    "\n",
    "# Maybe use lower init-ranges.\n",
    "# init = RandomUniform(minval=-0.05, maxval=0.05)\n",
    "# model.add(Dense(num_y_signals,activation='relu',kernel_initializer=init, kernel_regularizer=regularizers.l2(0.01)))\n",
    "# model.add(Dense(num_y_signals, Dropout(0.5))) # dropout layer\n",
    "# model.add(Dense(num_y_signals,activation='relu',kernel_initializer=init))"
   ]
  },
  {
   "cell_type": "markdown",
   "metadata": {},
   "source": [
    "### Loss Function"
   ]
  },
  {
   "cell_type": "code",
   "execution_count": 38,
   "metadata": {},
   "outputs": [],
   "source": [
    "warmup_steps = 50"
   ]
  },
  {
   "cell_type": "code",
   "execution_count": 39,
   "metadata": {},
   "outputs": [],
   "source": [
    "def loss_mse_warmup(y_true, y_pred):\n",
    "    \"\"\"\n",
    "    Calculate the Mean Squared Error between y_true and y_pred,\n",
    "    but ignore the beginning \"warmup\" part of the sequences.\n",
    "    \n",
    "    y_true is the desired output.\n",
    "    y_pred is the model's output.\n",
    "    \"\"\"\n",
    "\n",
    "    # The shape of both input tensors are:\n",
    "    # [batch_size, sequence_length, num_y_signals].\n",
    "\n",
    "    # Ignore the \"warmup\" parts of the sequences\n",
    "    # by taking slices of the tensors.\n",
    "    y_true_slice = y_true[:, warmup_steps:, :]\n",
    "    y_pred_slice = y_pred[:, warmup_steps:, :]\n",
    "\n",
    "    # These sliced tensors both have this shape:\n",
    "    # [batch_size, sequence_length - warmup_steps, num_y_signals]\n",
    "\n",
    "    # Calculate the MSE loss for each value in these tensors.\n",
    "    # This outputs a 3-rank tensor of the same shape.\n",
    "    loss = tf.losses.mean_squared_error(labels=y_true_slice,\n",
    "                                        predictions=y_pred_slice)\n",
    "\n",
    "    # Keras may reduce this across the first axis (the batch)\n",
    "    # but the semantics are unclear, so to be sure we use\n",
    "    # the loss across the entire tensor, we reduce it to a\n",
    "    # single scalar with the mean function.\n",
    "    loss_mean = tf.reduce_mean(loss)\n",
    "\n",
    "    return loss_mean"
   ]
  },
  {
   "cell_type": "markdown",
   "metadata": {},
   "source": [
    "### Compile Model"
   ]
  },
  {
   "cell_type": "code",
   "execution_count": null,
   "metadata": {},
   "outputs": [],
   "source": []
  },
  {
   "cell_type": "code",
   "execution_count": null,
   "metadata": {},
   "outputs": [],
   "source": []
  },
  {
   "cell_type": "code",
   "execution_count": null,
   "metadata": {
    "scrolled": true
   },
   "outputs": [],
   "source": []
  },
  {
   "cell_type": "markdown",
   "metadata": {},
   "source": [
    "### Callback Functions"
   ]
  },
  {
   "cell_type": "code",
   "execution_count": 40,
   "metadata": {},
   "outputs": [],
   "source": [
    "path_checkpoint = '23_checkpoint.keras'\n",
    "callback_checkpoint = ModelCheckpoint(filepath=path_checkpoint,\n",
    "                                      monitor='val_loss',\n",
    "                                      verbose=1,\n",
    "                                      save_weights_only=True,\n",
    "                                      save_best_only=True)"
   ]
  },
  {
   "cell_type": "code",
   "execution_count": 41,
   "metadata": {},
   "outputs": [],
   "source": [
    "callback_early_stopping = EarlyStopping(monitor='val_loss',\n",
    "                                        patience=5, verbose=1)"
   ]
  },
  {
   "cell_type": "code",
   "execution_count": 42,
   "metadata": {},
   "outputs": [],
   "source": [
    "callback_tensorboard = TensorBoard(log_dir='./23_logs/',\n",
    "                                   histogram_freq=0,\n",
    "                                   write_graph=True,\n",
    "                                   write_images=True)"
   ]
  },
  {
   "cell_type": "code",
   "execution_count": 43,
   "metadata": {},
   "outputs": [],
   "source": [
    "callback_reduce_lr = ReduceLROnPlateau(monitor='val_loss',\n",
    "                                       factor=0.1,\n",
    "                                       min_lr=1e-4,\n",
    "                                       patience=0,\n",
    "                                       verbose=1)"
   ]
  },
  {
   "cell_type": "code",
   "execution_count": 44,
   "metadata": {},
   "outputs": [],
   "source": [
    "callbacks = [callback_early_stopping,\n",
    "             callback_checkpoint,\n",
    "             callback_tensorboard,\n",
    "             callback_reduce_lr]"
   ]
  },
  {
   "cell_type": "markdown",
   "metadata": {},
   "source": [
    "## Estimate training time"
   ]
  },
  {
   "cell_type": "code",
   "execution_count": 45,
   "metadata": {},
   "outputs": [],
   "source": [
    "import time\n",
    "t0 = time.time()"
   ]
  },
  {
   "cell_type": "markdown",
   "metadata": {},
   "source": [
    "# Train the Neural Network"
   ]
  },
  {
   "cell_type": "code",
   "execution_count": 46,
   "metadata": {},
   "outputs": [
    {
     "name": "stderr",
     "output_type": "stream",
     "text": [
      "INFO:sherpa.core:\n",
      "-------------------------------------------------------\n",
      "SHERPA Dashboard running on http://192.168.0.28:8880\n",
      "-------------------------------------------------------\n"
     ]
    },
    {
     "name": "stdout",
     "output_type": "stream",
     "text": [
      " * Serving Flask app \"sherpa.app.app\" (lazy loading)\n",
      " * Environment: production\n",
      "   WARNING: Do not use the development server in a production environment.\n",
      "   Use a production WSGI server instead.\n",
      " * Debug mode: on\n",
      "----------------------------------------\n",
      " ----------------------------------------\n",
      " ----------------------------------------\n",
      "Exception happened during processing of request from ('127.0.0.1', 60440)\n",
      "Exception happened during processing of request from ('127.0.0.1', 60438)\n",
      "Exception happened during processing of request from ('127.0.0.1', 60439)\n"
     ]
    },
    {
     "name": "stderr",
     "output_type": "stream",
     "text": [
      "Traceback (most recent call last):\n",
      "Traceback (most recent call last):\n",
      "  File \"/Users/kuoweichiao/miniconda3/lib/python2.7/SocketServer.py\", line 596, in process_request_thread\n",
      "Traceback (most recent call last):\n",
      "  File \"/Users/kuoweichiao/miniconda3/lib/python2.7/SocketServer.py\", line 596, in process_request_thread\n",
      "  File \"/Users/kuoweichiao/miniconda3/lib/python2.7/SocketServer.py\", line 596, in process_request_thread\n",
      "    self.finish_request(request, client_address)\n",
      "    self.finish_request(request, client_address)\n",
      "    self.finish_request(request, client_address)\n",
      "  File \"/Users/kuoweichiao/miniconda3/lib/python2.7/SocketServer.py\", line 331, in finish_request\n",
      "  File \"/Users/kuoweichiao/miniconda3/lib/python2.7/SocketServer.py\", line 331, in finish_request\n",
      "  File \"/Users/kuoweichiao/miniconda3/lib/python2.7/SocketServer.py\", line 331, in finish_request\n",
      "    self.RequestHandlerClass(request, client_address, self)\n",
      "    self.RequestHandlerClass(request, client_address, self)\n",
      "    self.RequestHandlerClass(request, client_address, self)\n",
      "  File \"/Users/kuoweichiao/miniconda3/lib/python2.7/SocketServer.py\", line 654, in __init__\n",
      "  File \"/Users/kuoweichiao/miniconda3/lib/python2.7/SocketServer.py\", line 654, in __init__\n",
      "  File \"/Users/kuoweichiao/miniconda3/lib/python2.7/SocketServer.py\", line 654, in __init__\n",
      "    self.finish()\n",
      "    self.finish()\n",
      "    self.finish()\n",
      "  File \"/Users/kuoweichiao/miniconda3/lib/python2.7/SocketServer.py\", line 713, in finish\n",
      "  File \"/Users/kuoweichiao/miniconda3/lib/python2.7/SocketServer.py\", line 713, in finish\n",
      "  File \"/Users/kuoweichiao/miniconda3/lib/python2.7/SocketServer.py\", line 713, in finish\n",
      "    self.wfile.close()\n",
      "    self.wfile.close()\n",
      "  File \"/Users/kuoweichiao/miniconda3/lib/python2.7/socket.py\", line 283, in close\n",
      "    self.wfile.close()\n",
      "  File \"/Users/kuoweichiao/miniconda3/lib/python2.7/socket.py\", line 283, in close\n",
      "    self.flush()\n",
      "  File \"/Users/kuoweichiao/miniconda3/lib/python2.7/socket.py\", line 283, in close\n",
      "    self.flush()\n",
      "  File \"/Users/kuoweichiao/miniconda3/lib/python2.7/socket.py\", line 307, in flush\n",
      "    self.flush()\n",
      "  File \"/Users/kuoweichiao/miniconda3/lib/python2.7/socket.py\", line 307, in flush\n",
      "    self._sock.sendall(view[write_offset:write_offset+buffer_size])\n",
      "    self._sock.sendall(view[write_offset:write_offset+buffer_size])\n",
      "  File \"/Users/kuoweichiao/miniconda3/lib/python2.7/socket.py\", line 307, in flush\n",
      "error: [Errno 32] Broken pipe\n",
      "    self._sock.sendall(view[write_offset:write_offset+buffer_size])\n",
      "error: [Errno 32] Broken pipe\n"
     ]
    },
    {
     "name": "stdout",
     "output_type": "stream",
     "text": [
      "----------------------------------------\n"
     ]
    },
    {
     "name": "stderr",
     "output_type": "stream",
     "text": [
      "error: [Errno 32] Broken pipe\n"
     ]
    },
    {
     "name": "stdout",
     "output_type": "stream",
     "text": [
      " ----------------------------------------\n",
      "----------------------------------------\n",
      " ----------------------------------------\n",
      "----------------------------------------\n",
      " ----------------------------------------\n",
      " ----------------------------------------\n",
      " ----------------------------------------\n",
      "Exception happened during processing of request from ('127.0.0.1', 60517)\n"
     ]
    },
    {
     "name": "stderr",
     "output_type": "stream",
     "text": [
      "Traceback (most recent call last):\n"
     ]
    },
    {
     "name": "stdout",
     "output_type": "stream",
     "text": [
      "Exception happened during processing of request from ('127.0.0.1', 60516)\n",
      "Exception happened during processing of request from ('127.0.0.1', 60518)\n",
      " ----------------------------------------\n",
      "Exception happened during processing of request from ('127.0.0.1', 60519)\n"
     ]
    },
    {
     "name": "stderr",
     "output_type": "stream",
     "text": [
      "Traceback (most recent call last):\n"
     ]
    },
    {
     "name": "stdout",
     "output_type": "stream",
     "text": [
      "Exception happened during processing of request from ('127.0.0.1', 60515)\n",
      " ----------------------------------------\n"
     ]
    },
    {
     "name": "stderr",
     "output_type": "stream",
     "text": [
      "Traceback (most recent call last):\n",
      "  File \"/Users/kuoweichiao/miniconda3/lib/python2.7/SocketServer.py\", line 596, in process_request_thread\n"
     ]
    },
    {
     "name": "stdout",
     "output_type": "stream",
     "text": [
      "Exception happened during processing of request from ('127.0.0.1', 60520)\n"
     ]
    },
    {
     "name": "stderr",
     "output_type": "stream",
     "text": [
      "Traceback (most recent call last):\n",
      "  File \"/Users/kuoweichiao/miniconda3/lib/python2.7/SocketServer.py\", line 596, in process_request_thread\n"
     ]
    },
    {
     "name": "stdout",
     "output_type": "stream",
     "text": [
      "Exception happened during processing of request from ('127.0.0.1', 60521)\n"
     ]
    },
    {
     "name": "stderr",
     "output_type": "stream",
     "text": [
      "    self.finish_request(request, client_address)\n",
      "  File \"/Users/kuoweichiao/miniconda3/lib/python2.7/SocketServer.py\", line 596, in process_request_thread\n",
      "Traceback (most recent call last):\n",
      "    self.finish_request(request, client_address)\n",
      "  File \"/Users/kuoweichiao/miniconda3/lib/python2.7/SocketServer.py\", line 596, in process_request_thread\n",
      "Traceback (most recent call last):\n",
      "Traceback (most recent call last):\n",
      "    self.finish_request(request, client_address)\n",
      "  File \"/Users/kuoweichiao/miniconda3/lib/python2.7/SocketServer.py\", line 596, in process_request_thread\n",
      "  File \"/Users/kuoweichiao/miniconda3/lib/python2.7/SocketServer.py\", line 331, in finish_request\n",
      "    self.finish_request(request, client_address)\n",
      "  File \"/Users/kuoweichiao/miniconda3/lib/python2.7/SocketServer.py\", line 596, in process_request_thread\n",
      "  File \"/Users/kuoweichiao/miniconda3/lib/python2.7/SocketServer.py\", line 331, in finish_request\n",
      "  File \"/Users/kuoweichiao/miniconda3/lib/python2.7/SocketServer.py\", line 596, in process_request_thread\n",
      "    self.RequestHandlerClass(request, client_address, self)\n",
      "    self.finish_request(request, client_address)\n",
      "  File \"/Users/kuoweichiao/miniconda3/lib/python2.7/SocketServer.py\", line 331, in finish_request\n",
      "    self.finish_request(request, client_address)\n",
      "  File \"/Users/kuoweichiao/miniconda3/lib/python2.7/SocketServer.py\", line 331, in finish_request\n",
      "    self.RequestHandlerClass(request, client_address, self)\n",
      "    self.finish_request(request, client_address)\n",
      "    self.RequestHandlerClass(request, client_address, self)\n",
      "  File \"/Users/kuoweichiao/miniconda3/lib/python2.7/SocketServer.py\", line 331, in finish_request\n",
      "  File \"/Users/kuoweichiao/miniconda3/lib/python2.7/SocketServer.py\", line 654, in __init__\n",
      "  File \"/Users/kuoweichiao/miniconda3/lib/python2.7/SocketServer.py\", line 331, in finish_request\n",
      "    self.RequestHandlerClass(request, client_address, self)\n",
      "  File \"/Users/kuoweichiao/miniconda3/lib/python2.7/SocketServer.py\", line 654, in __init__\n",
      "  File \"/Users/kuoweichiao/miniconda3/lib/python2.7/SocketServer.py\", line 331, in finish_request\n",
      "    self.finish()\n",
      "    self.RequestHandlerClass(request, client_address, self)\n",
      "  File \"/Users/kuoweichiao/miniconda3/lib/python2.7/SocketServer.py\", line 654, in __init__\n",
      "  File \"/Users/kuoweichiao/miniconda3/lib/python2.7/SocketServer.py\", line 713, in finish\n",
      "    self.RequestHandlerClass(request, client_address, self)\n",
      "    self.RequestHandlerClass(request, client_address, self)\n",
      "    self.finish()\n",
      "  File \"/Users/kuoweichiao/miniconda3/lib/python2.7/SocketServer.py\", line 654, in __init__\n",
      "    self.wfile.close()\n",
      "  File \"/Users/kuoweichiao/miniconda3/lib/python2.7/SocketServer.py\", line 713, in finish\n",
      "    self.finish()\n",
      "  File \"/Users/kuoweichiao/miniconda3/lib/python2.7/SocketServer.py\", line 654, in __init__\n",
      "  File \"/Users/kuoweichiao/miniconda3/lib/python2.7/SocketServer.py\", line 654, in __init__\n",
      "    self.finish()\n",
      "  File \"/Users/kuoweichiao/miniconda3/lib/python2.7/SocketServer.py\", line 713, in finish\n",
      "    self.wfile.close()\n",
      "    self.finish()\n",
      "  File \"/Users/kuoweichiao/miniconda3/lib/python2.7/socket.py\", line 283, in close\n",
      "    self.finish()\n",
      "  File \"/Users/kuoweichiao/miniconda3/lib/python2.7/SocketServer.py\", line 654, in __init__\n",
      "  File \"/Users/kuoweichiao/miniconda3/lib/python2.7/SocketServer.py\", line 713, in finish\n",
      "  File \"/Users/kuoweichiao/miniconda3/lib/python2.7/SocketServer.py\", line 713, in finish\n",
      "  File \"/Users/kuoweichiao/miniconda3/lib/python2.7/socket.py\", line 283, in close\n",
      "    self.wfile.close()\n",
      "  File \"/Users/kuoweichiao/miniconda3/lib/python2.7/SocketServer.py\", line 713, in finish\n",
      "    self.wfile.close()\n",
      "    self.finish()\n"
     ]
    },
    {
     "name": "stdout",
     "output_type": "stream",
     "text": [
      "----------------------------------------\n"
     ]
    },
    {
     "name": "stderr",
     "output_type": "stream",
     "text": [
      "    self.wfile.close()\n",
      "    self.flush()\n",
      "    self.flush()\n",
      "    self.wfile.close()\n"
     ]
    },
    {
     "name": "stdout",
     "output_type": "stream",
     "text": [
      "Exception happened during processing of request from ('127.0.0.1', 60580)\n"
     ]
    },
    {
     "name": "stderr",
     "output_type": "stream",
     "text": [
      "  File \"/Users/kuoweichiao/miniconda3/lib/python2.7/socket.py\", line 307, in flush\n",
      "  File \"/Users/kuoweichiao/miniconda3/lib/python2.7/socket.py\", line 307, in flush\n",
      "  File \"/Users/kuoweichiao/miniconda3/lib/python2.7/socket.py\", line 283, in close\n",
      "  File \"/Users/kuoweichiao/miniconda3/lib/python2.7/SocketServer.py\", line 713, in finish\n",
      "  File \"/Users/kuoweichiao/miniconda3/lib/python2.7/socket.py\", line 283, in close\n",
      "    self._sock.sendall(view[write_offset:write_offset+buffer_size])\n",
      "Traceback (most recent call last):\n",
      "    self.flush()\n",
      "  File \"/Users/kuoweichiao/miniconda3/lib/python2.7/socket.py\", line 283, in close\n",
      "  File \"/Users/kuoweichiao/miniconda3/lib/python2.7/socket.py\", line 283, in close\n",
      "    self._sock.sendall(view[write_offset:write_offset+buffer_size])\n",
      "    self.flush()\n",
      "error: [Errno 32] Broken pipe\n",
      "  File \"/Users/kuoweichiao/miniconda3/lib/python2.7/socket.py\", line 307, in flush\n",
      "  File \"/Users/kuoweichiao/miniconda3/lib/python2.7/SocketServer.py\", line 596, in process_request_thread\n",
      "    self.wfile.close()\n",
      "    self.flush()\n",
      "  File \"/Users/kuoweichiao/miniconda3/lib/python2.7/socket.py\", line 307, in flush\n",
      "    self.finish_request(request, client_address)\n",
      "    self._sock.sendall(view[write_offset:write_offset+buffer_size])\n",
      "    self.flush()\n",
      "  File \"/Users/kuoweichiao/miniconda3/lib/python2.7/SocketServer.py\", line 331, in finish_request\n",
      "  File \"/Users/kuoweichiao/miniconda3/lib/python2.7/socket.py\", line 307, in flush\n",
      "error: [Errno 32] Broken pipe\n",
      "    self.RequestHandlerClass(request, client_address, self)\n",
      "error: [Errno 32] Broken pipe\n",
      "  File \"/Users/kuoweichiao/miniconda3/lib/python2.7/SocketServer.py\", line 654, in __init__\n",
      "  File \"/Users/kuoweichiao/miniconda3/lib/python2.7/socket.py\", line 307, in flush\n",
      "  File \"/Users/kuoweichiao/miniconda3/lib/python2.7/socket.py\", line 283, in close\n"
     ]
    },
    {
     "name": "stdout",
     "output_type": "stream",
     "text": [
      "----------------------------------------\n",
      " ----------------------------------------\n"
     ]
    },
    {
     "name": "stderr",
     "output_type": "stream",
     "text": [
      "    self._sock.sendall(view[write_offset:write_offset+buffer_size])\n",
      "    self._sock.sendall(view[write_offset:write_offset+buffer_size])\n",
      "    self._sock.sendall(view[write_offset:write_offset+buffer_size])\n",
      "    self.finish()\n"
     ]
    },
    {
     "name": "stdout",
     "output_type": "stream",
     "text": [
      " ----------------------------------------\n"
     ]
    },
    {
     "name": "stderr",
     "output_type": "stream",
     "text": [
      "    self.flush()\n",
      "  File \"/Users/kuoweichiao/miniconda3/lib/python2.7/socket.py\", line 307, in flush\n",
      "  File \"/Users/kuoweichiao/miniconda3/lib/python2.7/SocketServer.py\", line 713, in finish\n",
      "error: [Errno 32] Broken pipe\n"
     ]
    },
    {
     "name": "stdout",
     "output_type": "stream",
     "text": [
      "----------------------------------------\n"
     ]
    },
    {
     "name": "stderr",
     "output_type": "stream",
     "text": [
      "error: [Errno 32] Broken pipe\n",
      "error: [Errno 32] Broken pipe\n",
      "    self.wfile.close()\n",
      "    self._sock.sendall(view[write_offset:write_offset+buffer_size])\n",
      "  File \"/Users/kuoweichiao/miniconda3/lib/python2.7/socket.py\", line 283, in close\n",
      "error: [Errno 32] Broken pipe\n"
     ]
    },
    {
     "name": "stdout",
     "output_type": "stream",
     "text": [
      " ----------------------------------------\n"
     ]
    },
    {
     "name": "stderr",
     "output_type": "stream",
     "text": [
      "    self.flush()\n"
     ]
    },
    {
     "name": "stdout",
     "output_type": "stream",
     "text": [
      "----------------------------------------\n"
     ]
    },
    {
     "name": "stderr",
     "output_type": "stream",
     "text": [
      "  File \"/Users/kuoweichiao/miniconda3/lib/python2.7/socket.py\", line 307, in flush\n"
     ]
    },
    {
     "name": "stdout",
     "output_type": "stream",
     "text": [
      " ----------------------------------------\n"
     ]
    },
    {
     "name": "stderr",
     "output_type": "stream",
     "text": [
      "    self._sock.sendall(view[write_offset:write_offset+buffer_size])\n",
      "error: [Errno 32] Broken pipe\n"
     ]
    },
    {
     "name": "stdout",
     "output_type": "stream",
     "text": [
      "----------------------------------------\n",
      "----------------------------------------\n",
      " ----------------------------------------\n",
      " ----------------------------------------\n",
      "Exception happened during processing of request from ('127.0.0.1', 60710)\n",
      "Exception happened during processing of request from ('127.0.0.1', 60709)\n",
      "Exception happened during processing of request from ('127.0.0.1', 60711)\n"
     ]
    },
    {
     "name": "stderr",
     "output_type": "stream",
     "text": [
      "Traceback (most recent call last):\n",
      "Traceback (most recent call last):\n",
      "Traceback (most recent call last):\n",
      "  File \"/Users/kuoweichiao/miniconda3/lib/python2.7/SocketServer.py\", line 596, in process_request_thread\n",
      "  File \"/Users/kuoweichiao/miniconda3/lib/python2.7/SocketServer.py\", line 596, in process_request_thread\n",
      "  File \"/Users/kuoweichiao/miniconda3/lib/python2.7/SocketServer.py\", line 596, in process_request_thread\n",
      "    self.finish_request(request, client_address)\n",
      "    self.finish_request(request, client_address)\n",
      "    self.finish_request(request, client_address)\n",
      "  File \"/Users/kuoweichiao/miniconda3/lib/python2.7/SocketServer.py\", line 331, in finish_request\n",
      "  File \"/Users/kuoweichiao/miniconda3/lib/python2.7/SocketServer.py\", line 331, in finish_request\n",
      "  File \"/Users/kuoweichiao/miniconda3/lib/python2.7/SocketServer.py\", line 331, in finish_request\n",
      "    self.RequestHandlerClass(request, client_address, self)\n",
      "    self.RequestHandlerClass(request, client_address, self)\n",
      "  File \"/Users/kuoweichiao/miniconda3/lib/python2.7/SocketServer.py\", line 654, in __init__\n",
      "    self.RequestHandlerClass(request, client_address, self)\n",
      "  File \"/Users/kuoweichiao/miniconda3/lib/python2.7/SocketServer.py\", line 654, in __init__\n",
      "    self.finish()\n",
      "    self.finish()\n",
      "  File \"/Users/kuoweichiao/miniconda3/lib/python2.7/SocketServer.py\", line 654, in __init__\n",
      "  File \"/Users/kuoweichiao/miniconda3/lib/python2.7/SocketServer.py\", line 713, in finish\n",
      "  File \"/Users/kuoweichiao/miniconda3/lib/python2.7/SocketServer.py\", line 713, in finish\n",
      "    self.finish()\n",
      "    self.wfile.close()\n",
      "  File \"/Users/kuoweichiao/miniconda3/lib/python2.7/SocketServer.py\", line 713, in finish\n",
      "    self.wfile.close()\n",
      "  File \"/Users/kuoweichiao/miniconda3/lib/python2.7/socket.py\", line 283, in close\n",
      "  File \"/Users/kuoweichiao/miniconda3/lib/python2.7/socket.py\", line 283, in close\n",
      "    self.wfile.close()\n",
      "  File \"/Users/kuoweichiao/miniconda3/lib/python2.7/socket.py\", line 283, in close\n",
      "    self.flush()\n",
      "    self.flush()\n",
      "    self.flush()\n",
      "  File \"/Users/kuoweichiao/miniconda3/lib/python2.7/socket.py\", line 307, in flush\n",
      "  File \"/Users/kuoweichiao/miniconda3/lib/python2.7/socket.py\", line 307, in flush\n",
      "  File \"/Users/kuoweichiao/miniconda3/lib/python2.7/socket.py\", line 307, in flush\n",
      "    self._sock.sendall(view[write_offset:write_offset+buffer_size])\n",
      "    self._sock.sendall(view[write_offset:write_offset+buffer_size])\n",
      "error: [Errno 32] Broken pipe\n",
      "    self._sock.sendall(view[write_offset:write_offset+buffer_size])\n",
      "error: [Errno 32] Broken pipe\n",
      "error: [Errno 32] Broken pipe\n"
     ]
    },
    {
     "name": "stdout",
     "output_type": "stream",
     "text": [
      "----------------------------------------\n",
      " ----------------------------------------\n",
      "----------------------------------------\n",
      "----------------------------------------\n",
      " ----------------------------------------\n",
      " ----------------------------------------\n",
      " ----------------------------------------\n",
      "Exception happened during processing of request from ('127.0.0.1', 61397) ----------------------------------------\n",
      "Exception happened during processing of request from ('127.0.0.1', 61396)\n",
      "Exception happened during processing of request from ('127.0.0.1', 61395)\n",
      "Exception happened during processing of request from ('127.0.0.1', 61394)\n",
      " ----------------------------------------\n",
      "Exception happened during processing of request from ('127.0.0.1', 61398)\n"
     ]
    },
    {
     "name": "stderr",
     "output_type": "stream",
     "text": [
      "Traceback (most recent call last):\n"
     ]
    },
    {
     "name": "stdout",
     "output_type": "stream",
     "text": [
      "\n"
     ]
    },
    {
     "name": "stderr",
     "output_type": "stream",
     "text": [
      "Traceback (most recent call last):\n"
     ]
    },
    {
     "name": "stdout",
     "output_type": "stream",
     "text": [
      "Exception happened during processing of request from ('127.0.0.1', 61399)\n"
     ]
    },
    {
     "name": "stderr",
     "output_type": "stream",
     "text": [
      "Traceback (most recent call last):\n",
      "Traceback (most recent call last):\n",
      "Traceback (most recent call last):\n",
      "Traceback (most recent call last):\n",
      "  File \"/Users/kuoweichiao/miniconda3/lib/python2.7/SocketServer.py\", line 596, in process_request_thread\n",
      "  File \"/Users/kuoweichiao/miniconda3/lib/python2.7/SocketServer.py\", line 596, in process_request_thread\n"
     ]
    },
    {
     "name": "stdout",
     "output_type": "stream",
     "text": [
      "----------------------------------------\n"
     ]
    },
    {
     "name": "stderr",
     "output_type": "stream",
     "text": [
      "  File \"/Users/kuoweichiao/miniconda3/lib/python2.7/SocketServer.py\", line 596, in process_request_thread\n",
      "    self.finish_request(request, client_address)\n"
     ]
    },
    {
     "name": "stdout",
     "output_type": "stream",
     "text": [
      " ----------------------------------------\n"
     ]
    },
    {
     "name": "stderr",
     "output_type": "stream",
     "text": [
      "  File \"/Users/kuoweichiao/miniconda3/lib/python2.7/SocketServer.py\", line 596, in process_request_thread\n",
      "  File \"/Users/kuoweichiao/miniconda3/lib/python2.7/SocketServer.py\", line 596, in process_request_thread\n"
     ]
    },
    {
     "name": "stdout",
     "output_type": "stream",
     "text": [
      "Exception happened during processing of request from ('127.0.0.1', 61410)\n",
      "Exception happened during processing of request from ('127.0.0.1', 61400)\n"
     ]
    },
    {
     "name": "stderr",
     "output_type": "stream",
     "text": [
      "    self.finish_request(request, client_address)\n",
      "  File \"/Users/kuoweichiao/miniconda3/lib/python2.7/SocketServer.py\", line 596, in process_request_thread\n",
      "  File \"/Users/kuoweichiao/miniconda3/lib/python2.7/SocketServer.py\", line 331, in finish_request\n",
      "    self.finish_request(request, client_address)\n",
      "    self.finish_request(request, client_address)\n",
      "  File \"/Users/kuoweichiao/miniconda3/lib/python2.7/SocketServer.py\", line 331, in finish_request\n",
      "  File \"/Users/kuoweichiao/miniconda3/lib/python2.7/SocketServer.py\", line 331, in finish_request\n",
      "Traceback (most recent call last):\n",
      "  File \"/Users/kuoweichiao/miniconda3/lib/python2.7/SocketServer.py\", line 331, in finish_request\n",
      "    self.RequestHandlerClass(request, client_address, self)\n",
      "Traceback (most recent call last):\n",
      "    self.finish_request(request, client_address)\n",
      "    self.RequestHandlerClass(request, client_address, self)\n",
      "    self.RequestHandlerClass(request, client_address, self)\n",
      "    self.RequestHandlerClass(request, client_address, self)\n",
      "  File \"/Users/kuoweichiao/miniconda3/lib/python2.7/SocketServer.py\", line 596, in process_request_thread\n",
      "  File \"/Users/kuoweichiao/miniconda3/lib/python2.7/SocketServer.py\", line 596, in process_request_thread\n",
      "  File \"/Users/kuoweichiao/miniconda3/lib/python2.7/SocketServer.py\", line 654, in __init__\n",
      "  File \"/Users/kuoweichiao/miniconda3/lib/python2.7/SocketServer.py\", line 654, in __init__\n",
      "    self.finish_request(request, client_address)\n",
      "  File \"/Users/kuoweichiao/miniconda3/lib/python2.7/SocketServer.py\", line 654, in __init__\n",
      "    self.finish_request(request, client_address)\n",
      "  File \"/Users/kuoweichiao/miniconda3/lib/python2.7/SocketServer.py\", line 654, in __init__\n",
      "  File \"/Users/kuoweichiao/miniconda3/lib/python2.7/SocketServer.py\", line 331, in finish_request\n",
      "    self.finish_request(request, client_address)\n",
      "    self.finish()\n",
      "  File \"/Users/kuoweichiao/miniconda3/lib/python2.7/SocketServer.py\", line 331, in finish_request\n",
      "  File \"/Users/kuoweichiao/miniconda3/lib/python2.7/SocketServer.py\", line 713, in finish\n",
      "  File \"/Users/kuoweichiao/miniconda3/lib/python2.7/SocketServer.py\", line 331, in finish_request\n",
      "    self.finish()\n",
      "  File \"/Users/kuoweichiao/miniconda3/lib/python2.7/SocketServer.py\", line 331, in finish_request\n",
      "    self.RequestHandlerClass(request, client_address, self)\n",
      "  File \"/Users/kuoweichiao/miniconda3/lib/python2.7/SocketServer.py\", line 713, in finish\n",
      "    self.finish()\n",
      "    self.wfile.close()\n",
      "    self.finish()\n",
      "    self.RequestHandlerClass(request, client_address, self)\n",
      "    self.RequestHandlerClass(request, client_address, self)\n",
      "  File \"/Users/kuoweichiao/miniconda3/lib/python2.7/SocketServer.py\", line 654, in __init__\n",
      "  File \"/Users/kuoweichiao/miniconda3/lib/python2.7/SocketServer.py\", line 713, in finish\n",
      "  File \"/Users/kuoweichiao/miniconda3/lib/python2.7/SocketServer.py\", line 713, in finish\n",
      "  File \"/Users/kuoweichiao/miniconda3/lib/python2.7/SocketServer.py\", line 654, in __init__\n",
      "    self.wfile.close()\n",
      "  File \"/Users/kuoweichiao/miniconda3/lib/python2.7/socket.py\", line 283, in close\n",
      "  File \"/Users/kuoweichiao/miniconda3/lib/python2.7/SocketServer.py\", line 654, in __init__\n",
      "    self.finish()\n",
      "  File \"/Users/kuoweichiao/miniconda3/lib/python2.7/socket.py\", line 283, in close\n",
      "    self.wfile.close()\n",
      "    self.flush()\n",
      "    self.finish()\n",
      "    self.RequestHandlerClass(request, client_address, self)\n",
      "    self.finish()\n",
      "    self.wfile.close()\n",
      "  File \"/Users/kuoweichiao/miniconda3/lib/python2.7/socket.py\", line 283, in close\n",
      "    self.flush()\n",
      "  File \"/Users/kuoweichiao/miniconda3/lib/python2.7/SocketServer.py\", line 713, in finish\n",
      "  File \"/Users/kuoweichiao/miniconda3/lib/python2.7/SocketServer.py\", line 713, in finish\n",
      "  File \"/Users/kuoweichiao/miniconda3/lib/python2.7/socket.py\", line 283, in close\n",
      "    self.flush()\n",
      "  File \"/Users/kuoweichiao/miniconda3/lib/python2.7/socket.py\", line 307, in flush\n",
      "    self.wfile.close()\n",
      "  File \"/Users/kuoweichiao/miniconda3/lib/python2.7/SocketServer.py\", line 654, in __init__\n",
      "  File \"/Users/kuoweichiao/miniconda3/lib/python2.7/socket.py\", line 307, in flush\n",
      "    self.wfile.close()\n",
      "  File \"/Users/kuoweichiao/miniconda3/lib/python2.7/socket.py\", line 307, in flush\n",
      "    self.flush()\n",
      "  File \"/Users/kuoweichiao/miniconda3/lib/python2.7/SocketServer.py\", line 713, in finish\n",
      "    self._sock.sendall(view[write_offset:write_offset+buffer_size])\n",
      "  File \"/Users/kuoweichiao/miniconda3/lib/python2.7/socket.py\", line 283, in close\n",
      "  File \"/Users/kuoweichiao/miniconda3/lib/python2.7/socket.py\", line 283, in close\n",
      "    self._sock.sendall(view[write_offset:write_offset+buffer_size])\n",
      "  File \"/Users/kuoweichiao/miniconda3/lib/python2.7/socket.py\", line 307, in flush\n",
      "error: [Errno 32] Broken pipe\n"
     ]
    },
    {
     "name": "stdout",
     "output_type": "stream",
     "text": [
      "----------------------------------------\n"
     ]
    },
    {
     "name": "stderr",
     "output_type": "stream",
     "text": [
      "    self.wfile.close()\n",
      "    self.flush()\n",
      "    self.finish()\n",
      "    self._sock.sendall(view[write_offset:write_offset+buffer_size])\n",
      "error: [Errno 32] Broken pipe\n",
      "    self._sock.sendall(view[write_offset:write_offset+buffer_size])\n",
      "  File \"/Users/kuoweichiao/miniconda3/lib/python2.7/SocketServer.py\", line 713, in finish\n",
      "  File \"/Users/kuoweichiao/miniconda3/lib/python2.7/socket.py\", line 283, in close\n",
      "  File \"/Users/kuoweichiao/miniconda3/lib/python2.7/socket.py\", line 307, in flush\n",
      "error: [Errno 32] Broken pipe\n",
      "    self.flush()\n",
      "    self._sock.sendall(view[write_offset:write_offset+buffer_size])\n",
      "    self.wfile.close()\n",
      "    self.flush()\n"
     ]
    },
    {
     "name": "stdout",
     "output_type": "stream",
     "text": [
      "----------------------------------------\n"
     ]
    },
    {
     "name": "stderr",
     "output_type": "stream",
     "text": [
      "error: [Errno 32] Broken pipe\n",
      "  File \"/Users/kuoweichiao/miniconda3/lib/python2.7/socket.py\", line 283, in close\n",
      "  File \"/Users/kuoweichiao/miniconda3/lib/python2.7/socket.py\", line 307, in flush\n"
     ]
    },
    {
     "name": "stdout",
     "output_type": "stream",
     "text": [
      " ----------------------------------------\n"
     ]
    },
    {
     "name": "stderr",
     "output_type": "stream",
     "text": [
      "    self._sock.sendall(view[write_offset:write_offset+buffer_size])\n",
      "  File \"/Users/kuoweichiao/miniconda3/lib/python2.7/socket.py\", line 307, in flush\n"
     ]
    },
    {
     "name": "stdout",
     "output_type": "stream",
     "text": [
      "----------------------------------------\n"
     ]
    },
    {
     "name": "stderr",
     "output_type": "stream",
     "text": [
      "    self.flush()\n",
      "error: [Errno 32] Broken pipe\n",
      "    self._sock.sendall(view[write_offset:write_offset+buffer_size])\n",
      "  File \"/Users/kuoweichiao/miniconda3/lib/python2.7/socket.py\", line 307, in flush\n"
     ]
    },
    {
     "name": "stdout",
     "output_type": "stream",
     "text": [
      "----------------------------------------\n"
     ]
    },
    {
     "name": "stderr",
     "output_type": "stream",
     "text": [
      "error: [Errno 32] Broken pipe\n",
      "error: [Errno 32] Broken pipe\n"
     ]
    },
    {
     "name": "stdout",
     "output_type": "stream",
     "text": [
      "----------------------------------------\n"
     ]
    },
    {
     "name": "stderr",
     "output_type": "stream",
     "text": [
      "    self._sock.sendall(view[write_offset:write_offset+buffer_size])\n"
     ]
    },
    {
     "name": "stdout",
     "output_type": "stream",
     "text": [
      "----------------------------------------\n"
     ]
    },
    {
     "name": "stderr",
     "output_type": "stream",
     "text": [
      "error: [Errno 32] Broken pipe\n"
     ]
    },
    {
     "name": "stdout",
     "output_type": "stream",
     "text": [
      "----------------------------------------\n",
      "----------------------------------------\n",
      " ----------------------------------------\n",
      " ----------------------------------------\n",
      "Exception happened during processing of request from ('127.0.0.1', 61913)\n",
      "Exception happened during processing of request from ('127.0.0.1', 61914)\n",
      "Exception happened during processing of request from ('127.0.0.1', 61915)\n"
     ]
    },
    {
     "name": "stderr",
     "output_type": "stream",
     "text": [
      "Traceback (most recent call last):\n",
      "Traceback (most recent call last):\n",
      "Traceback (most recent call last):\n",
      "  File \"/Users/kuoweichiao/miniconda3/lib/python2.7/SocketServer.py\", line 596, in process_request_thread\n",
      "  File \"/Users/kuoweichiao/miniconda3/lib/python2.7/SocketServer.py\", line 596, in process_request_thread\n",
      "  File \"/Users/kuoweichiao/miniconda3/lib/python2.7/SocketServer.py\", line 596, in process_request_thread\n",
      "    self.finish_request(request, client_address)\n",
      "    self.finish_request(request, client_address)\n",
      "    self.finish_request(request, client_address)\n",
      "  File \"/Users/kuoweichiao/miniconda3/lib/python2.7/SocketServer.py\", line 331, in finish_request\n",
      "  File \"/Users/kuoweichiao/miniconda3/lib/python2.7/SocketServer.py\", line 331, in finish_request\n",
      "  File \"/Users/kuoweichiao/miniconda3/lib/python2.7/SocketServer.py\", line 331, in finish_request\n",
      "    self.RequestHandlerClass(request, client_address, self)\n",
      "    self.RequestHandlerClass(request, client_address, self)\n",
      "    self.RequestHandlerClass(request, client_address, self)\n",
      "  File \"/Users/kuoweichiao/miniconda3/lib/python2.7/SocketServer.py\", line 654, in __init__\n",
      "  File \"/Users/kuoweichiao/miniconda3/lib/python2.7/SocketServer.py\", line 654, in __init__\n",
      "    self.finish()\n",
      "    self.finish()\n",
      "  File \"/Users/kuoweichiao/miniconda3/lib/python2.7/SocketServer.py\", line 654, in __init__\n",
      "  File \"/Users/kuoweichiao/miniconda3/lib/python2.7/SocketServer.py\", line 713, in finish\n"
     ]
    },
    {
     "name": "stdout",
     "output_type": "stream",
     "text": [
      "----------------------------------------\n",
      "Exception happened during processing of request from ('127.0.0.1', 61940)\n"
     ]
    },
    {
     "name": "stderr",
     "output_type": "stream",
     "text": [
      "  File \"/Users/kuoweichiao/miniconda3/lib/python2.7/SocketServer.py\", line 713, in finish\n",
      "Traceback (most recent call last):\n",
      "    self.wfile.close()\n",
      "    self.finish()\n",
      "  File \"/Users/kuoweichiao/miniconda3/lib/python2.7/SocketServer.py\", line 596, in process_request_thread\n",
      "  File \"/Users/kuoweichiao/miniconda3/lib/python2.7/socket.py\", line 283, in close\n",
      "    self.wfile.close()\n",
      "    self.finish_request(request, client_address)\n",
      "  File \"/Users/kuoweichiao/miniconda3/lib/python2.7/socket.py\", line 283, in close\n",
      "    self.flush()\n",
      "  File \"/Users/kuoweichiao/miniconda3/lib/python2.7/SocketServer.py\", line 331, in finish_request\n",
      "  File \"/Users/kuoweichiao/miniconda3/lib/python2.7/SocketServer.py\", line 713, in finish\n",
      "    self.flush()\n",
      "    self.RequestHandlerClass(request, client_address, self)\n",
      "  File \"/Users/kuoweichiao/miniconda3/lib/python2.7/socket.py\", line 307, in flush\n",
      "  File \"/Users/kuoweichiao/miniconda3/lib/python2.7/SocketServer.py\", line 654, in __init__\n",
      "  File \"/Users/kuoweichiao/miniconda3/lib/python2.7/socket.py\", line 307, in flush\n",
      "    self.wfile.close()\n",
      "    self.finish()\n",
      "  File \"/Users/kuoweichiao/miniconda3/lib/python2.7/SocketServer.py\", line 713, in finish\n",
      "    self._sock.sendall(view[write_offset:write_offset+buffer_size])\n",
      "    self.wfile.close()\n",
      "    self._sock.sendall(view[write_offset:write_offset+buffer_size])\n",
      "error: [Errno 32] Broken pipe\n",
      "  File \"/Users/kuoweichiao/miniconda3/lib/python2.7/socket.py\", line 283, in close\n",
      "  File \"/Users/kuoweichiao/miniconda3/lib/python2.7/socket.py\", line 283, in close\n",
      "    self.flush()\n",
      "    self.flush()\n",
      "  File \"/Users/kuoweichiao/miniconda3/lib/python2.7/socket.py\", line 307, in flush\n"
     ]
    },
    {
     "name": "stdout",
     "output_type": "stream",
     "text": [
      "----------------------------------------\n"
     ]
    },
    {
     "name": "stderr",
     "output_type": "stream",
     "text": [
      "    self._sock.sendall(view[write_offset:write_offset+buffer_size])\n",
      "error: [Errno 32] Broken pipe\n",
      "  File \"/Users/kuoweichiao/miniconda3/lib/python2.7/socket.py\", line 307, in flush\n",
      "error: [Errno 32] Broken pipe\n"
     ]
    },
    {
     "name": "stdout",
     "output_type": "stream",
     "text": [
      "----------------------------------------\n",
      " ----------------------------------------\n"
     ]
    },
    {
     "name": "stderr",
     "output_type": "stream",
     "text": [
      "    self._sock.sendall(view[write_offset:write_offset+buffer_size])\n",
      "error: [Errno 32] Broken pipe\n"
     ]
    },
    {
     "name": "stdout",
     "output_type": "stream",
     "text": [
      "----------------------------------------\n",
      "----------------------------------------\n",
      "Exception happened during processing of request from ('127.0.0.1', 61985)\n"
     ]
    },
    {
     "name": "stderr",
     "output_type": "stream",
     "text": [
      "Traceback (most recent call last):\n",
      "  File \"/Users/kuoweichiao/miniconda3/lib/python2.7/SocketServer.py\", line 596, in process_request_thread\n",
      "    self.finish_request(request, client_address)\n",
      "  File \"/Users/kuoweichiao/miniconda3/lib/python2.7/SocketServer.py\", line 331, in finish_request\n",
      "    self.RequestHandlerClass(request, client_address, self)\n",
      "  File \"/Users/kuoweichiao/miniconda3/lib/python2.7/SocketServer.py\", line 654, in __init__\n",
      "    self.finish()\n",
      "  File \"/Users/kuoweichiao/miniconda3/lib/python2.7/SocketServer.py\", line 713, in finish\n",
      "    self.wfile.close()\n",
      "  File \"/Users/kuoweichiao/miniconda3/lib/python2.7/socket.py\", line 283, in close\n",
      "    self.flush()\n",
      "  File \"/Users/kuoweichiao/miniconda3/lib/python2.7/socket.py\", line 307, in flush\n",
      "    self._sock.sendall(view[write_offset:write_offset+buffer_size])\n",
      "error: [Errno 32] Broken pipe\n"
     ]
    },
    {
     "name": "stdout",
     "output_type": "stream",
     "text": [
      "----------------------------------------\n",
      "----------------------------------------\n",
      " ----------------------------------------\n",
      "Exception happened during processing of request from ('127.0.0.1', 62282)\n",
      "Exception happened during processing of request from ('127.0.0.1', 62283)\n"
     ]
    },
    {
     "name": "stderr",
     "output_type": "stream",
     "text": [
      "Traceback (most recent call last):\n"
     ]
    },
    {
     "name": "stdout",
     "output_type": "stream",
     "text": [
      " ----------------------------------------\n"
     ]
    },
    {
     "name": "stderr",
     "output_type": "stream",
     "text": [
      "Traceback (most recent call last):\n"
     ]
    },
    {
     "name": "stdout",
     "output_type": "stream",
     "text": [
      "----------------------------------------\n"
     ]
    },
    {
     "name": "stderr",
     "output_type": "stream",
     "text": [
      "  File \"/Users/kuoweichiao/miniconda3/lib/python2.7/SocketServer.py\", line 596, in process_request_thread\n",
      "  File \"/Users/kuoweichiao/miniconda3/lib/python2.7/SocketServer.py\", line 596, in process_request_thread\n"
     ]
    },
    {
     "name": "stdout",
     "output_type": "stream",
     "text": [
      " ----------------------------------------\n",
      "Exception happened during processing of request from ('127.0.0.1', 62281)\n",
      "Exception happened during processing of request from ('127.0.0.1', 62285)\n",
      "Exception happened during processing of request from ('127.0.0.1', 62284)\n"
     ]
    },
    {
     "name": "stderr",
     "output_type": "stream",
     "text": [
      "    self.finish_request(request, client_address)\n",
      "Traceback (most recent call last):\n",
      "Traceback (most recent call last):\n",
      "  File \"/Users/kuoweichiao/miniconda3/lib/python2.7/SocketServer.py\", line 331, in finish_request\n",
      "    self.finish_request(request, client_address)\n",
      "Traceback (most recent call last):\n",
      "  File \"/Users/kuoweichiao/miniconda3/lib/python2.7/SocketServer.py\", line 596, in process_request_thread\n",
      "  File \"/Users/kuoweichiao/miniconda3/lib/python2.7/SocketServer.py\", line 596, in process_request_thread\n",
      "    self.RequestHandlerClass(request, client_address, self)\n",
      "  File \"/Users/kuoweichiao/miniconda3/lib/python2.7/SocketServer.py\", line 331, in finish_request\n",
      "  File \"/Users/kuoweichiao/miniconda3/lib/python2.7/SocketServer.py\", line 596, in process_request_thread\n",
      "    self.finish_request(request, client_address)\n",
      "    self.RequestHandlerClass(request, client_address, self)\n",
      "  File \"/Users/kuoweichiao/miniconda3/lib/python2.7/SocketServer.py\", line 654, in __init__\n",
      "    self.finish_request(request, client_address)\n",
      "    self.finish_request(request, client_address)\n",
      "  File \"/Users/kuoweichiao/miniconda3/lib/python2.7/SocketServer.py\", line 331, in finish_request\n",
      "  File \"/Users/kuoweichiao/miniconda3/lib/python2.7/SocketServer.py\", line 331, in finish_request\n",
      "  File \"/Users/kuoweichiao/miniconda3/lib/python2.7/SocketServer.py\", line 654, in __init__\n",
      "  File \"/Users/kuoweichiao/miniconda3/lib/python2.7/SocketServer.py\", line 331, in finish_request\n",
      "    self.RequestHandlerClass(request, client_address, self)\n",
      "    self.finish()\n",
      "  File \"/Users/kuoweichiao/miniconda3/lib/python2.7/SocketServer.py\", line 654, in __init__\n",
      "    self.RequestHandlerClass(request, client_address, self)\n",
      "    self.finish()\n",
      "    self.RequestHandlerClass(request, client_address, self)\n",
      "  File \"/Users/kuoweichiao/miniconda3/lib/python2.7/SocketServer.py\", line 713, in finish\n",
      "  File \"/Users/kuoweichiao/miniconda3/lib/python2.7/SocketServer.py\", line 713, in finish\n",
      "  File \"/Users/kuoweichiao/miniconda3/lib/python2.7/SocketServer.py\", line 654, in __init__\n",
      "    self.wfile.close()\n",
      "    self.finish()\n",
      "  File \"/Users/kuoweichiao/miniconda3/lib/python2.7/SocketServer.py\", line 654, in __init__\n",
      "  File \"/Users/kuoweichiao/miniconda3/lib/python2.7/socket.py\", line 283, in close\n",
      "    self.finish()\n",
      "    self.wfile.close()\n",
      "    self.finish()\n",
      "  File \"/Users/kuoweichiao/miniconda3/lib/python2.7/SocketServer.py\", line 713, in finish\n",
      "    self.flush()\n",
      "  File \"/Users/kuoweichiao/miniconda3/lib/python2.7/SocketServer.py\", line 713, in finish\n",
      "  File \"/Users/kuoweichiao/miniconda3/lib/python2.7/socket.py\", line 307, in flush\n",
      "  File \"/Users/kuoweichiao/miniconda3/lib/python2.7/SocketServer.py\", line 713, in finish\n",
      "    self.wfile.close()\n",
      "    self.wfile.close()\n",
      "  File \"/Users/kuoweichiao/miniconda3/lib/python2.7/socket.py\", line 283, in close\n",
      "    self._sock.sendall(view[write_offset:write_offset+buffer_size])\n",
      "  File \"/Users/kuoweichiao/miniconda3/lib/python2.7/socket.py\", line 283, in close\n",
      "  File \"/Users/kuoweichiao/miniconda3/lib/python2.7/socket.py\", line 283, in close\n",
      "error: [Errno 32] Broken pipe\n",
      "    self.flush()\n",
      "    self.wfile.close()\n"
     ]
    },
    {
     "name": "stdout",
     "output_type": "stream",
     "text": [
      "----------------------------------------\n"
     ]
    },
    {
     "name": "stderr",
     "output_type": "stream",
     "text": [
      "    self.flush()\n",
      "  File \"/Users/kuoweichiao/miniconda3/lib/python2.7/socket.py\", line 307, in flush\n",
      "  File \"/Users/kuoweichiao/miniconda3/lib/python2.7/socket.py\", line 283, in close\n",
      "    self.flush()\n",
      "  File \"/Users/kuoweichiao/miniconda3/lib/python2.7/socket.py\", line 307, in flush\n",
      "    self._sock.sendall(view[write_offset:write_offset+buffer_size])\n",
      "  File \"/Users/kuoweichiao/miniconda3/lib/python2.7/socket.py\", line 307, in flush\n",
      "    self.flush()\n",
      "    self._sock.sendall(view[write_offset:write_offset+buffer_size])\n",
      "  File \"/Users/kuoweichiao/miniconda3/lib/python2.7/socket.py\", line 307, in flush\n",
      "error: [Errno 32] Broken pipe\n",
      "error: [Errno 32] Broken pipe\n",
      "    self._sock.sendall(view[write_offset:write_offset+buffer_size])\n"
     ]
    },
    {
     "name": "stdout",
     "output_type": "stream",
     "text": [
      "----------------------------------------\n",
      " ----------------------------------------\n"
     ]
    },
    {
     "name": "stderr",
     "output_type": "stream",
     "text": [
      "    self._sock.sendall(view[write_offset:write_offset+buffer_size])\n",
      "error: [Errno 32] Broken pipe\n"
     ]
    },
    {
     "name": "stdout",
     "output_type": "stream",
     "text": [
      "----------------------------------------\n"
     ]
    },
    {
     "name": "stderr",
     "output_type": "stream",
     "text": [
      "error: [Errno 32] Broken pipe\n"
     ]
    },
    {
     "name": "stdout",
     "output_type": "stream",
     "text": [
      " ----------------------------------------\n",
      "----------------------------------------\n",
      " ----------------------------------------\n",
      " ----------------------------------------\n",
      " ----------------------------------------\n",
      "Exception happened during processing of request from ('127.0.0.1', 62747)\n",
      "Exception happened during processing of request from ('127.0.0.1', 62748)\n",
      "Exception happened during processing of request from ('127.0.0.1', 62750)\n",
      "Exception happened during processing of request from ('127.0.0.1', 62749)\n",
      " ----------------------------------------\n"
     ]
    },
    {
     "name": "stderr",
     "output_type": "stream",
     "text": [
      "Traceback (most recent call last):\n",
      "Traceback (most recent call last):\n",
      "Traceback (most recent call last):\n",
      "Traceback (most recent call last):\n"
     ]
    },
    {
     "name": "stdout",
     "output_type": "stream",
     "text": [
      "Exception happened during processing of request from ('127.0.0.1', 62751)\n"
     ]
    },
    {
     "name": "stderr",
     "output_type": "stream",
     "text": [
      "  File \"/Users/kuoweichiao/miniconda3/lib/python2.7/SocketServer.py\", line 596, in process_request_thread\n",
      "  File \"/Users/kuoweichiao/miniconda3/lib/python2.7/SocketServer.py\", line 596, in process_request_thread\n"
     ]
    },
    {
     "name": "stdout",
     "output_type": "stream",
     "text": [
      "----------------------------------------\n"
     ]
    },
    {
     "name": "stderr",
     "output_type": "stream",
     "text": [
      "  File \"/Users/kuoweichiao/miniconda3/lib/python2.7/SocketServer.py\", line 596, in process_request_thread\n",
      "  File \"/Users/kuoweichiao/miniconda3/lib/python2.7/SocketServer.py\", line 596, in process_request_thread\n",
      "    self.finish_request(request, client_address)\n",
      "    self.finish_request(request, client_address)\n",
      "Traceback (most recent call last):\n"
     ]
    },
    {
     "name": "stdout",
     "output_type": "stream",
     "text": [
      "Exception happened during processing of request from ('127.0.0.1', 62752)\n"
     ]
    },
    {
     "name": "stderr",
     "output_type": "stream",
     "text": [
      "    self.finish_request(request, client_address)\n",
      "    self.finish_request(request, client_address)\n",
      "  File \"/Users/kuoweichiao/miniconda3/lib/python2.7/SocketServer.py\", line 331, in finish_request\n",
      "  File \"/Users/kuoweichiao/miniconda3/lib/python2.7/SocketServer.py\", line 331, in finish_request\n",
      "    self.RequestHandlerClass(request, client_address, self)\n",
      "  File \"/Users/kuoweichiao/miniconda3/lib/python2.7/SocketServer.py\", line 596, in process_request_thread\n",
      "  File \"/Users/kuoweichiao/miniconda3/lib/python2.7/SocketServer.py\", line 331, in finish_request\n",
      "Traceback (most recent call last):\n",
      "  File \"/Users/kuoweichiao/miniconda3/lib/python2.7/SocketServer.py\", line 654, in __init__\n",
      "  File \"/Users/kuoweichiao/miniconda3/lib/python2.7/SocketServer.py\", line 331, in finish_request\n",
      "    self.RequestHandlerClass(request, client_address, self)\n",
      "    self.finish_request(request, client_address)\n",
      "  File \"/Users/kuoweichiao/miniconda3/lib/python2.7/SocketServer.py\", line 596, in process_request_thread\n",
      "    self.RequestHandlerClass(request, client_address, self)\n",
      "  File \"/Users/kuoweichiao/miniconda3/lib/python2.7/SocketServer.py\", line 654, in __init__\n",
      "    self.finish()\n",
      "    self.RequestHandlerClass(request, client_address, self)\n",
      "    self.finish_request(request, client_address)\n",
      "  File \"/Users/kuoweichiao/miniconda3/lib/python2.7/SocketServer.py\", line 331, in finish_request\n",
      "  File \"/Users/kuoweichiao/miniconda3/lib/python2.7/SocketServer.py\", line 654, in __init__\n",
      "  File \"/Users/kuoweichiao/miniconda3/lib/python2.7/SocketServer.py\", line 713, in finish\n",
      "  File \"/Users/kuoweichiao/miniconda3/lib/python2.7/SocketServer.py\", line 331, in finish_request\n",
      "  File \"/Users/kuoweichiao/miniconda3/lib/python2.7/SocketServer.py\", line 654, in __init__\n",
      "    self.RequestHandlerClass(request, client_address, self)\n",
      "    self.finish()\n",
      "    self.finish()\n",
      "    self.wfile.close()\n",
      "  File \"/Users/kuoweichiao/miniconda3/lib/python2.7/SocketServer.py\", line 713, in finish\n",
      "  File \"/Users/kuoweichiao/miniconda3/lib/python2.7/SocketServer.py\", line 654, in __init__\n",
      "    self.finish()\n",
      "  File \"/Users/kuoweichiao/miniconda3/lib/python2.7/SocketServer.py\", line 713, in finish\n",
      "    self.RequestHandlerClass(request, client_address, self)\n",
      "  File \"/Users/kuoweichiao/miniconda3/lib/python2.7/SocketServer.py\", line 713, in finish\n",
      "  File \"/Users/kuoweichiao/miniconda3/lib/python2.7/socket.py\", line 283, in close\n",
      "  File \"/Users/kuoweichiao/miniconda3/lib/python2.7/SocketServer.py\", line 654, in __init__\n",
      "    self.wfile.close()\n",
      "    self.wfile.close()\n",
      "    self.finish()\n",
      "    self.wfile.close()\n",
      "  File \"/Users/kuoweichiao/miniconda3/lib/python2.7/socket.py\", line 283, in close\n",
      "  File \"/Users/kuoweichiao/miniconda3/lib/python2.7/socket.py\", line 283, in close\n",
      "  File \"/Users/kuoweichiao/miniconda3/lib/python2.7/SocketServer.py\", line 713, in finish\n",
      "    self.finish()\n",
      "    self.flush()\n",
      "    self.flush()\n",
      "  File \"/Users/kuoweichiao/miniconda3/lib/python2.7/socket.py\", line 283, in close\n",
      "    self.wfile.close()\n",
      "  File \"/Users/kuoweichiao/miniconda3/lib/python2.7/SocketServer.py\", line 713, in finish\n",
      "    self.flush()\n",
      "  File \"/Users/kuoweichiao/miniconda3/lib/python2.7/socket.py\", line 307, in flush\n",
      "  File \"/Users/kuoweichiao/miniconda3/lib/python2.7/socket.py\", line 283, in close\n",
      "    self.flush()\n",
      "  File \"/Users/kuoweichiao/miniconda3/lib/python2.7/socket.py\", line 307, in flush\n",
      "  File \"/Users/kuoweichiao/miniconda3/lib/python2.7/socket.py\", line 307, in flush\n",
      "  File \"/Users/kuoweichiao/miniconda3/lib/python2.7/socket.py\", line 307, in flush\n",
      "    self._sock.sendall(view[write_offset:write_offset+buffer_size])\n",
      "    self.wfile.close()\n",
      "    self.flush()\n",
      "    self._sock.sendall(view[write_offset:write_offset+buffer_size])\n",
      "  File \"/Users/kuoweichiao/miniconda3/lib/python2.7/socket.py\", line 283, in close\n",
      "    self._sock.sendall(view[write_offset:write_offset+buffer_size])\n",
      "  File \"/Users/kuoweichiao/miniconda3/lib/python2.7/socket.py\", line 307, in flush\n",
      "    self._sock.sendall(view[write_offset:write_offset+buffer_size])\n",
      "error: [Errno 32] Broken pipe\n",
      "    self.flush()\n",
      "error: [Errno 32] Broken pipe\n",
      "error: [Errno 32] Broken pipe\n",
      "error: [Errno 32] Broken pipe\n",
      "  File \"/Users/kuoweichiao/miniconda3/lib/python2.7/socket.py\", line 307, in flush\n"
     ]
    },
    {
     "name": "stdout",
     "output_type": "stream",
     "text": [
      "----------------------------------------\n"
     ]
    },
    {
     "name": "stderr",
     "output_type": "stream",
     "text": [
      "    self._sock.sendall(view[write_offset:write_offset+buffer_size])\n"
     ]
    },
    {
     "name": "stdout",
     "output_type": "stream",
     "text": [
      " ----------------------------------------\n",
      " ----------------------------------------\n"
     ]
    },
    {
     "name": "stderr",
     "output_type": "stream",
     "text": [
      "    self._sock.sendall(view[write_offset:write_offset+buffer_size])\n"
     ]
    },
    {
     "name": "stdout",
     "output_type": "stream",
     "text": [
      " ----------------------------------------\n"
     ]
    },
    {
     "name": "stderr",
     "output_type": "stream",
     "text": [
      "error: [Errno 32] Broken pipe\n",
      "error: [Errno 32] Broken pipe\n"
     ]
    },
    {
     "name": "stdout",
     "output_type": "stream",
     "text": [
      "----------------------------------------\n",
      "----------------------------------------\n",
      "----------------------------------------\n",
      "Exception happened during processing of request from ('127.0.0.1', 63912)\n"
     ]
    },
    {
     "name": "stderr",
     "output_type": "stream",
     "text": [
      "Traceback (most recent call last):\n",
      "  File \"/Users/kuoweichiao/miniconda3/lib/python2.7/SocketServer.py\", line 596, in process_request_thread\n",
      "    self.finish_request(request, client_address)\n",
      "  File \"/Users/kuoweichiao/miniconda3/lib/python2.7/SocketServer.py\", line 331, in finish_request\n",
      "    self.RequestHandlerClass(request, client_address, self)\n",
      "  File \"/Users/kuoweichiao/miniconda3/lib/python2.7/SocketServer.py\", line 654, in __init__\n",
      "    self.finish()\n",
      "  File \"/Users/kuoweichiao/miniconda3/lib/python2.7/SocketServer.py\", line 713, in finish\n",
      "    self.wfile.close()\n",
      "  File \"/Users/kuoweichiao/miniconda3/lib/python2.7/socket.py\", line 283, in close\n",
      "    self.flush()\n",
      "  File \"/Users/kuoweichiao/miniconda3/lib/python2.7/socket.py\", line 307, in flush\n",
      "    self._sock.sendall(view[write_offset:write_offset+buffer_size])\n",
      "error: [Errno 32] Broken pipe\n"
     ]
    },
    {
     "name": "stdout",
     "output_type": "stream",
     "text": [
      "----------------------------------------\n",
      " ----------------------------------------\n",
      "\n",
      "---------------------------------------- ----------------------------------------\n",
      " ----------------------------------------\n",
      " ----------------------------------------\n",
      " ----------------------------------------\n",
      "Exception happened during processing of request from ('127.0.0.1', 63933)\n",
      "Exception happened during processing of request from ('127.0.0.1', 63934)\n"
     ]
    },
    {
     "name": "stderr",
     "output_type": "stream",
     "text": [
      "Traceback (most recent call last):\n"
     ]
    },
    {
     "name": "stdout",
     "output_type": "stream",
     "text": [
      "Exception happened during processing of request from ('127.0.0.1', 63935)\n",
      "Exception happened during processing of request from ('127.0.0.1', 63930)\n",
      "Exception happened during processing of request from ('127.0.0.1', 63931)\n",
      "Exception happened during processing of request from ('127.0.0.1', 63932)\n"
     ]
    },
    {
     "name": "stderr",
     "output_type": "stream",
     "text": [
      "Traceback (most recent call last):\n",
      "  File \"/Users/kuoweichiao/miniconda3/lib/python2.7/SocketServer.py\", line 596, in process_request_thread\n",
      "  File \"/Users/kuoweichiao/miniconda3/lib/python2.7/SocketServer.py\", line 596, in process_request_thread\n",
      "Traceback (most recent call last):\n",
      "Traceback (most recent call last):\n",
      "Traceback (most recent call last):\n",
      "    self.finish_request(request, client_address)\n",
      "    self.finish_request(request, client_address)\n",
      "Traceback (most recent call last):\n",
      "  File \"/Users/kuoweichiao/miniconda3/lib/python2.7/SocketServer.py\", line 331, in finish_request\n",
      "  File \"/Users/kuoweichiao/miniconda3/lib/python2.7/SocketServer.py\", line 596, in process_request_thread\n",
      "  File \"/Users/kuoweichiao/miniconda3/lib/python2.7/SocketServer.py\", line 596, in process_request_thread\n",
      "  File \"/Users/kuoweichiao/miniconda3/lib/python2.7/SocketServer.py\", line 596, in process_request_thread\n",
      "  File \"/Users/kuoweichiao/miniconda3/lib/python2.7/SocketServer.py\", line 596, in process_request_thread\n",
      "  File \"/Users/kuoweichiao/miniconda3/lib/python2.7/SocketServer.py\", line 331, in finish_request\n",
      "    self.finish_request(request, client_address)\n",
      "    self.RequestHandlerClass(request, client_address, self)\n",
      "    self.finish_request(request, client_address)\n",
      "    self.finish_request(request, client_address)\n",
      "    self.finish_request(request, client_address)\n",
      "  File \"/Users/kuoweichiao/miniconda3/lib/python2.7/SocketServer.py\", line 331, in finish_request\n",
      "  File \"/Users/kuoweichiao/miniconda3/lib/python2.7/SocketServer.py\", line 331, in finish_request\n",
      "  File \"/Users/kuoweichiao/miniconda3/lib/python2.7/SocketServer.py\", line 654, in __init__\n",
      "  File \"/Users/kuoweichiao/miniconda3/lib/python2.7/SocketServer.py\", line 331, in finish_request\n",
      "    self.RequestHandlerClass(request, client_address, self)\n",
      "  File \"/Users/kuoweichiao/miniconda3/lib/python2.7/SocketServer.py\", line 331, in finish_request\n",
      "  File \"/Users/kuoweichiao/miniconda3/lib/python2.7/SocketServer.py\", line 654, in __init__\n",
      "    self.RequestHandlerClass(request, client_address, self)\n",
      "    self.RequestHandlerClass(request, client_address, self)\n",
      "    self.RequestHandlerClass(request, client_address, self)\n",
      "  File \"/Users/kuoweichiao/miniconda3/lib/python2.7/SocketServer.py\", line 654, in __init__\n",
      "    self.finish()\n",
      "    self.RequestHandlerClass(request, client_address, self)\n",
      "    self.finish()\n",
      "  File \"/Users/kuoweichiao/miniconda3/lib/python2.7/SocketServer.py\", line 654, in __init__\n",
      "  File \"/Users/kuoweichiao/miniconda3/lib/python2.7/SocketServer.py\", line 654, in __init__\n",
      "  File \"/Users/kuoweichiao/miniconda3/lib/python2.7/SocketServer.py\", line 654, in __init__\n",
      "  File \"/Users/kuoweichiao/miniconda3/lib/python2.7/SocketServer.py\", line 713, in finish\n",
      "    self.finish()\n",
      "  File \"/Users/kuoweichiao/miniconda3/lib/python2.7/SocketServer.py\", line 713, in finish\n",
      "    self.finish()\n",
      "    self.finish()\n",
      "  File \"/Users/kuoweichiao/miniconda3/lib/python2.7/SocketServer.py\", line 713, in finish\n",
      "  File \"/Users/kuoweichiao/miniconda3/lib/python2.7/SocketServer.py\", line 713, in finish\n",
      "  File \"/Users/kuoweichiao/miniconda3/lib/python2.7/SocketServer.py\", line 713, in finish\n",
      "    self.finish()\n",
      "    self.wfile.close()\n",
      "    self.wfile.close()\n",
      "    self.wfile.close()\n",
      "    self.wfile.close()\n",
      "    self.wfile.close()\n",
      "  File \"/Users/kuoweichiao/miniconda3/lib/python2.7/SocketServer.py\", line 713, in finish\n",
      "  File \"/Users/kuoweichiao/miniconda3/lib/python2.7/socket.py\", line 283, in close\n",
      "  File \"/Users/kuoweichiao/miniconda3/lib/python2.7/socket.py\", line 283, in close\n",
      "  File \"/Users/kuoweichiao/miniconda3/lib/python2.7/socket.py\", line 283, in close\n",
      "  File \"/Users/kuoweichiao/miniconda3/lib/python2.7/socket.py\", line 283, in close\n",
      "  File \"/Users/kuoweichiao/miniconda3/lib/python2.7/socket.py\", line 283, in close\n",
      "    self.flush()\n",
      "    self.flush()\n",
      "    self.flush()\n",
      "    self.wfile.close()\n",
      "    self.flush()\n",
      "  File \"/Users/kuoweichiao/miniconda3/lib/python2.7/socket.py\", line 307, in flush\n",
      "    self.flush()\n",
      "  File \"/Users/kuoweichiao/miniconda3/lib/python2.7/socket.py\", line 307, in flush\n",
      "  File \"/Users/kuoweichiao/miniconda3/lib/python2.7/socket.py\", line 307, in flush\n",
      "  File \"/Users/kuoweichiao/miniconda3/lib/python2.7/socket.py\", line 283, in close\n",
      "    self._sock.sendall(view[write_offset:write_offset+buffer_size])\n",
      "    self._sock.sendall(view[write_offset:write_offset+buffer_size])\n",
      "    self._sock.sendall(view[write_offset:write_offset+buffer_size])\n",
      "  File \"/Users/kuoweichiao/miniconda3/lib/python2.7/socket.py\", line 307, in flush\n",
      "  File \"/Users/kuoweichiao/miniconda3/lib/python2.7/socket.py\", line 307, in flush\n",
      "    self.flush()\n",
      "error: [Errno 32] Broken pipe\n",
      "error: [Errno 32] Broken pipe\n",
      "    self._sock.sendall(view[write_offset:write_offset+buffer_size])\n",
      "error: [Errno 32] Broken pipe\n",
      "  File \"/Users/kuoweichiao/miniconda3/lib/python2.7/socket.py\", line 307, in flush\n",
      "    self._sock.sendall(view[write_offset:write_offset+buffer_size])\n",
      "    self._sock.sendall(view[write_offset:write_offset+buffer_size])\n"
     ]
    },
    {
     "name": "stdout",
     "output_type": "stream",
     "text": [
      "----------------------------------------\n",
      " ----------------------------------------\n"
     ]
    },
    {
     "name": "stderr",
     "output_type": "stream",
     "text": [
      "error: [Errno 32] Broken pipe\n"
     ]
    },
    {
     "name": "stdout",
     "output_type": "stream",
     "text": [
      " ----------------------------------------\n"
     ]
    },
    {
     "name": "stderr",
     "output_type": "stream",
     "text": [
      "error: [Errno 32] Broken pipe\n",
      "error: [Errno 32] Broken pipe\n"
     ]
    },
    {
     "name": "stdout",
     "output_type": "stream",
     "text": [
      "\n",
      "----------------------------------------\n",
      "---------------------------------------- ----------------------------------------\n",
      " ----------------------------------------\n",
      "----------------------------------------\n",
      "Exception happened during processing of request from ('127.0.0.1', 65212)\n"
     ]
    },
    {
     "name": "stderr",
     "output_type": "stream",
     "text": [
      "Traceback (most recent call last):\n"
     ]
    },
    {
     "name": "stdout",
     "output_type": "stream",
     "text": [
      "Exception happened during processing of request from ('127.0.0.1', 65211)\n"
     ]
    },
    {
     "name": "stderr",
     "output_type": "stream",
     "text": [
      "  File \"/Users/kuoweichiao/miniconda3/lib/python2.7/SocketServer.py\", line 596, in process_request_thread\n",
      "Traceback (most recent call last):\n",
      "    self.finish_request(request, client_address)\n",
      "  File \"/Users/kuoweichiao/miniconda3/lib/python2.7/SocketServer.py\", line 596, in process_request_thread\n",
      "    self.finish_request(request, client_address)\n",
      "  File \"/Users/kuoweichiao/miniconda3/lib/python2.7/SocketServer.py\", line 331, in finish_request\n",
      "    self.RequestHandlerClass(request, client_address, self)\n",
      "  File \"/Users/kuoweichiao/miniconda3/lib/python2.7/SocketServer.py\", line 331, in finish_request\n",
      "    self.RequestHandlerClass(request, client_address, self)\n",
      "  File \"/Users/kuoweichiao/miniconda3/lib/python2.7/SocketServer.py\", line 654, in __init__\n",
      "    self.finish()\n",
      "  File \"/Users/kuoweichiao/miniconda3/lib/python2.7/SocketServer.py\", line 654, in __init__\n",
      "    self.finish()\n",
      "  File \"/Users/kuoweichiao/miniconda3/lib/python2.7/SocketServer.py\", line 713, in finish\n",
      "    self.wfile.close()\n",
      "  File \"/Users/kuoweichiao/miniconda3/lib/python2.7/SocketServer.py\", line 713, in finish\n",
      "  File \"/Users/kuoweichiao/miniconda3/lib/python2.7/socket.py\", line 283, in close\n",
      "    self.wfile.close()\n",
      "  File \"/Users/kuoweichiao/miniconda3/lib/python2.7/socket.py\", line 283, in close\n",
      "    self.flush()\n",
      "  File \"/Users/kuoweichiao/miniconda3/lib/python2.7/socket.py\", line 307, in flush\n",
      "    self.flush()\n",
      "    self._sock.sendall(view[write_offset:write_offset+buffer_size])\n",
      "  File \"/Users/kuoweichiao/miniconda3/lib/python2.7/socket.py\", line 307, in flush\n",
      "error: [Errno 32] Broken pipe\n",
      "    self._sock.sendall(view[write_offset:write_offset+buffer_size])\n"
     ]
    },
    {
     "name": "stdout",
     "output_type": "stream",
     "text": [
      "----------------------------------------\n"
     ]
    },
    {
     "name": "stderr",
     "output_type": "stream",
     "text": [
      "error: [Errno 32] Broken pipe\n"
     ]
    },
    {
     "name": "stdout",
     "output_type": "stream",
     "text": [
      "----------------------------------------\n",
      "----------------------------------------\n",
      "Exception happened during processing of request from ('127.0.0.1', 65282)\n"
     ]
    },
    {
     "name": "stderr",
     "output_type": "stream",
     "text": [
      "Traceback (most recent call last):\n",
      "  File \"/Users/kuoweichiao/miniconda3/lib/python2.7/SocketServer.py\", line 596, in process_request_thread\n",
      "    self.finish_request(request, client_address)\n",
      "  File \"/Users/kuoweichiao/miniconda3/lib/python2.7/SocketServer.py\", line 331, in finish_request\n",
      "    self.RequestHandlerClass(request, client_address, self)\n",
      "  File \"/Users/kuoweichiao/miniconda3/lib/python2.7/SocketServer.py\", line 654, in __init__\n",
      "    self.finish()\n",
      "  File \"/Users/kuoweichiao/miniconda3/lib/python2.7/SocketServer.py\", line 713, in finish\n",
      "    self.wfile.close()\n",
      "  File \"/Users/kuoweichiao/miniconda3/lib/python2.7/socket.py\", line 283, in close\n",
      "    self.flush()\n"
     ]
    },
    {
     "name": "stdout",
     "output_type": "stream",
     "text": [
      " ----------------------------------------\n",
      " ----------------------------------------\n",
      "----------------------------------------\n"
     ]
    },
    {
     "name": "stderr",
     "output_type": "stream",
     "text": [
      "  File \"/Users/kuoweichiao/miniconda3/lib/python2.7/socket.py\", line 307, in flush\n"
     ]
    },
    {
     "name": "stdout",
     "output_type": "stream",
     "text": [
      "Exception happened during processing of request from ('127.0.0.1', 65298)\n",
      " ----------------------------------------\n",
      "Exception happened during processing of request from ('127.0.0.1', 65299)\n",
      " ----------------------------------------\n"
     ]
    },
    {
     "name": "stderr",
     "output_type": "stream",
     "text": [
      "Traceback (most recent call last):\n"
     ]
    },
    {
     "name": "stdout",
     "output_type": "stream",
     "text": [
      "Exception happened during processing of request from ('127.0.0.1', 65297)\n"
     ]
    },
    {
     "name": "stderr",
     "output_type": "stream",
     "text": [
      "    self._sock.sendall(view[write_offset:write_offset+buffer_size])\n"
     ]
    },
    {
     "name": "stdout",
     "output_type": "stream",
     "text": [
      "Exception happened during processing of request from ('127.0.0.1', 65296)\n"
     ]
    },
    {
     "name": "stderr",
     "output_type": "stream",
     "text": [
      "error: [Errno 32] Broken pipe\n",
      "Traceback (most recent call last):\n",
      "Traceback (most recent call last):\n",
      "  File \"/Users/kuoweichiao/miniconda3/lib/python2.7/SocketServer.py\", line 596, in process_request_thread\n"
     ]
    },
    {
     "name": "stdout",
     "output_type": "stream",
     "text": [
      "Exception happened during processing of request from ('127.0.0.1', 65301)\n",
      " ----------------------------------------\n",
      " ----------------------------------------\n"
     ]
    },
    {
     "name": "stderr",
     "output_type": "stream",
     "text": [
      "  File \"/Users/kuoweichiao/miniconda3/lib/python2.7/SocketServer.py\", line 596, in process_request_thread\n"
     ]
    },
    {
     "name": "stdout",
     "output_type": "stream",
     "text": [
      " ----------------------------------------\n",
      "Exception happened during processing of request from ('127.0.0.1', 65302)\n"
     ]
    },
    {
     "name": "stderr",
     "output_type": "stream",
     "text": [
      "Traceback (most recent call last):\n",
      "Traceback (most recent call last):\n",
      "    self.finish_request(request, client_address)\n",
      "  File \"/Users/kuoweichiao/miniconda3/lib/python2.7/SocketServer.py\", line 596, in process_request_thread\n",
      "Traceback (most recent call last):\n",
      "    self.finish_request(request, client_address)\n",
      "  File \"/Users/kuoweichiao/miniconda3/lib/python2.7/SocketServer.py\", line 596, in process_request_thread\n",
      "  File \"/Users/kuoweichiao/miniconda3/lib/python2.7/SocketServer.py\", line 596, in process_request_thread\n",
      "  File \"/Users/kuoweichiao/miniconda3/lib/python2.7/SocketServer.py\", line 331, in finish_request\n",
      "  File \"/Users/kuoweichiao/miniconda3/lib/python2.7/SocketServer.py\", line 596, in process_request_thread\n",
      "    self.finish_request(request, client_address)\n",
      "  File \"/Users/kuoweichiao/miniconda3/lib/python2.7/SocketServer.py\", line 331, in finish_request\n",
      "    self.finish_request(request, client_address)\n",
      "    self.finish_request(request, client_address)\n"
     ]
    },
    {
     "name": "stdout",
     "output_type": "stream",
     "text": [
      "Exception happened during processing of request from ('127.0.0.1', 65300)\n"
     ]
    },
    {
     "name": "stderr",
     "output_type": "stream",
     "text": [
      "    self.RequestHandlerClass(request, client_address, self)\n",
      "  File \"/Users/kuoweichiao/miniconda3/lib/python2.7/SocketServer.py\", line 331, in finish_request\n",
      "    self.finish_request(request, client_address)\n",
      "  File \"/Users/kuoweichiao/miniconda3/lib/python2.7/SocketServer.py\", line 331, in finish_request\n",
      "  File \"/Users/kuoweichiao/miniconda3/lib/python2.7/SocketServer.py\", line 331, in finish_request\n",
      "  File \"/Users/kuoweichiao/miniconda3/lib/python2.7/SocketServer.py\", line 654, in __init__\n",
      "    self.RequestHandlerClass(request, client_address, self)\n",
      "  File \"/Users/kuoweichiao/miniconda3/lib/python2.7/SocketServer.py\", line 331, in finish_request\n",
      "Traceback (most recent call last):\n",
      "    self.RequestHandlerClass(request, client_address, self)\n",
      "    self.RequestHandlerClass(request, client_address, self)\n",
      "    self.RequestHandlerClass(request, client_address, self)\n",
      "    self.RequestHandlerClass(request, client_address, self)\n",
      "  File \"/Users/kuoweichiao/miniconda3/lib/python2.7/SocketServer.py\", line 654, in __init__\n",
      "    self.finish()\n",
      "  File \"/Users/kuoweichiao/miniconda3/lib/python2.7/SocketServer.py\", line 654, in __init__\n",
      "  File \"/Users/kuoweichiao/miniconda3/lib/python2.7/SocketServer.py\", line 654, in __init__\n",
      "  File \"/Users/kuoweichiao/miniconda3/lib/python2.7/SocketServer.py\", line 654, in __init__\n",
      "  File \"/Users/kuoweichiao/miniconda3/lib/python2.7/SocketServer.py\", line 596, in process_request_thread\n",
      "  File \"/Users/kuoweichiao/miniconda3/lib/python2.7/SocketServer.py\", line 654, in __init__\n",
      "    self.finish()\n",
      "    self.finish()\n",
      "  File \"/Users/kuoweichiao/miniconda3/lib/python2.7/SocketServer.py\", line 713, in finish\n",
      "  File \"/Users/kuoweichiao/miniconda3/lib/python2.7/SocketServer.py\", line 713, in finish\n",
      "    self.finish_request(request, client_address)\n",
      "    self.finish()\n",
      "  File \"/Users/kuoweichiao/miniconda3/lib/python2.7/SocketServer.py\", line 713, in finish\n",
      "    self.wfile.close()\n",
      "    self.finish()\n",
      "  File \"/Users/kuoweichiao/miniconda3/lib/python2.7/SocketServer.py\", line 713, in finish\n",
      "    self.wfile.close()\n",
      "    self.wfile.close()\n",
      "  File \"/Users/kuoweichiao/miniconda3/lib/python2.7/SocketServer.py\", line 331, in finish_request\n",
      "    self.finish()\n",
      "  File \"/Users/kuoweichiao/miniconda3/lib/python2.7/socket.py\", line 283, in close\n",
      "    self.wfile.close()\n",
      "  File \"/Users/kuoweichiao/miniconda3/lib/python2.7/socket.py\", line 283, in close\n",
      "    self.RequestHandlerClass(request, client_address, self)\n",
      "    self.flush()\n",
      "  File \"/Users/kuoweichiao/miniconda3/lib/python2.7/SocketServer.py\", line 713, in finish\n",
      "  File \"/Users/kuoweichiao/miniconda3/lib/python2.7/socket.py\", line 283, in close\n",
      "  File \"/Users/kuoweichiao/miniconda3/lib/python2.7/socket.py\", line 283, in close\n",
      "    self.flush()\n",
      "  File \"/Users/kuoweichiao/miniconda3/lib/python2.7/SocketServer.py\", line 654, in __init__\n",
      "  File \"/Users/kuoweichiao/miniconda3/lib/python2.7/socket.py\", line 307, in flush\n",
      "    self.wfile.close()\n",
      "    self._sock.sendall(view[write_offset:write_offset+buffer_size])\n",
      "    self.flush()\n",
      "error: [Errno 32] Broken pipe\n",
      "    self.finish()\n",
      "  File \"/Users/kuoweichiao/miniconda3/lib/python2.7/socket.py\", line 307, in flush\n"
     ]
    },
    {
     "name": "stdout",
     "output_type": "stream",
     "text": [
      "----------------------------------------\n"
     ]
    },
    {
     "name": "stderr",
     "output_type": "stream",
     "text": [
      "  File \"/Users/kuoweichiao/miniconda3/lib/python2.7/socket.py\", line 307, in flush\n",
      "    self.flush()\n",
      "  File \"/Users/kuoweichiao/miniconda3/lib/python2.7/SocketServer.py\", line 713, in finish\n",
      "  File \"/Users/kuoweichiao/miniconda3/lib/python2.7/SocketServer.py\", line 713, in finish\n",
      "    self._sock.sendall(view[write_offset:write_offset+buffer_size])\n",
      "    self._sock.sendall(view[write_offset:write_offset+buffer_size])\n",
      "  File \"/Users/kuoweichiao/miniconda3/lib/python2.7/socket.py\", line 283, in close\n",
      "error: [Errno 32] Broken pipe\n",
      "    self.wfile.close()\n",
      "error: [Errno 32] Broken pipe\n",
      "    self.wfile.close()\n",
      "  File \"/Users/kuoweichiao/miniconda3/lib/python2.7/socket.py\", line 307, in flush\n",
      "  File \"/Users/kuoweichiao/miniconda3/lib/python2.7/socket.py\", line 283, in close\n"
     ]
    },
    {
     "name": "stdout",
     "output_type": "stream",
     "text": [
      "----------------------------------------\n"
     ]
    },
    {
     "name": "stderr",
     "output_type": "stream",
     "text": [
      "    self.flush()\n",
      "  File \"/Users/kuoweichiao/miniconda3/lib/python2.7/socket.py\", line 307, in flush\n"
     ]
    },
    {
     "name": "stdout",
     "output_type": "stream",
     "text": [
      "----------------------------------------\n"
     ]
    },
    {
     "name": "stderr",
     "output_type": "stream",
     "text": [
      "    self.flush()\n",
      "    self._sock.sendall(view[write_offset:write_offset+buffer_size])\n",
      "  File \"/Users/kuoweichiao/miniconda3/lib/python2.7/socket.py\", line 283, in close\n",
      "error: [Errno 32] Broken pipe\n",
      "    self._sock.sendall(view[write_offset:write_offset+buffer_size])\n"
     ]
    },
    {
     "name": "stdout",
     "output_type": "stream",
     "text": [
      "----------------------------------------\n"
     ]
    },
    {
     "name": "stderr",
     "output_type": "stream",
     "text": [
      "  File \"/Users/kuoweichiao/miniconda3/lib/python2.7/socket.py\", line 307, in flush\n",
      "error: [Errno 32] Broken pipe\n",
      "    self.flush()\n"
     ]
    },
    {
     "name": "stdout",
     "output_type": "stream",
     "text": [
      "----------------------------------------\n"
     ]
    },
    {
     "name": "stderr",
     "output_type": "stream",
     "text": [
      "  File \"/Users/kuoweichiao/miniconda3/lib/python2.7/socket.py\", line 307, in flush\n",
      "    self._sock.sendall(view[write_offset:write_offset+buffer_size])\n",
      "    self._sock.sendall(view[write_offset:write_offset+buffer_size])\n",
      "error: [Errno 32] Broken pipe\n"
     ]
    },
    {
     "name": "stdout",
     "output_type": "stream",
     "text": [
      "----------------------------------------\n"
     ]
    },
    {
     "name": "stderr",
     "output_type": "stream",
     "text": [
      "error: [Errno 32] Broken pipe\n"
     ]
    },
    {
     "name": "stdout",
     "output_type": "stream",
     "text": [
      " ----------------------------------------\n"
     ]
    }
   ],
   "source": [
    "parameters = [sherpa.Discrete('num_units', [50, 550])]\n",
    "alg = sherpa.algorithms.BayesianOptimization(max_num_trials=10)\n",
    "study = sherpa.Study(parameters=parameters,\n",
    "                     algorithm=alg,\n",
    "                     lower_is_better=True)"
   ]
  },
  {
   "cell_type": "code",
   "execution_count": 47,
   "metadata": {},
   "outputs": [
    {
     "name": "stdout",
     "output_type": "stream",
     "text": [
      "_________________________________________________________________\n",
      "Layer (type)                 Output Shape              Param #   \n",
      "=================================================================\n",
      "gru (GRU)                    (None, None, 50)          9300      \n",
      "_________________________________________________________________\n",
      "dense (Dense)                (None, None, 1)           51        \n",
      "=================================================================\n",
      "Total params: 9,351\n",
      "Trainable params: 9,351\n",
      "Non-trainable params: 0\n",
      "_________________________________________________________________\n"
     ]
    },
    {
     "name": "stderr",
     "output_type": "stream",
     "text": [
      "Using TensorFlow backend.\n"
     ]
    },
    {
     "name": "stdout",
     "output_type": "stream",
     "text": [
      "Epoch 1/10\n",
      " 99/100 [============================>.] - ETA: 0s - loss: 0.0022\n",
      "Epoch 00001: val_loss improved from inf to 0.01907, saving model to 23_checkpoint.keras\n",
      "100/100 [==============================] - 34s 337ms/step - loss: 0.0022 - val_loss: 0.0191\n",
      "Epoch 2/10\n",
      " 99/100 [============================>.] - ETA: 0s - loss: 0.0012\n",
      "Epoch 00002: val_loss improved from 0.01907 to 0.00864, saving model to 23_checkpoint.keras\n",
      "100/100 [==============================] - 31s 312ms/step - loss: 0.0012 - val_loss: 0.0086\n",
      "Epoch 3/10\n",
      " 99/100 [============================>.] - ETA: 0s - loss: 0.0011\n",
      "Epoch 00003: val_loss improved from 0.00864 to 0.00423, saving model to 23_checkpoint.keras\n",
      "100/100 [==============================] - 32s 320ms/step - loss: 0.0011 - val_loss: 0.0042\n",
      "Epoch 4/10\n",
      " 99/100 [============================>.] - ETA: 0s - loss: 9.2033e-04\n",
      "Epoch 00004: val_loss did not improve from 0.00423\n",
      "\n",
      "Epoch 00004: ReduceLROnPlateau reducing learning rate to 0.00010000000475.\n",
      "100/100 [==============================] - 32s 323ms/step - loss: 9.1900e-04 - val_loss: 0.0052\n",
      "Epoch 5/10\n",
      " 99/100 [============================>.] - ETA: 0s - loss: 5.4338e-04\n",
      "Epoch 00005: val_loss improved from 0.00423 to 0.00286, saving model to 23_checkpoint.keras\n",
      "100/100 [==============================] - 30s 305ms/step - loss: 5.4337e-04 - val_loss: 0.0029\n",
      "Epoch 6/10\n",
      " 99/100 [============================>.] - ETA: 0s - loss: 5.3075e-04\n",
      "Epoch 00006: val_loss improved from 0.00286 to 0.00286, saving model to 23_checkpoint.keras\n",
      "\n",
      "Epoch 00006: ReduceLROnPlateau reducing learning rate to 0.0001.\n",
      "100/100 [==============================] - 28s 284ms/step - loss: 5.3077e-04 - val_loss: 0.0029\n",
      "Epoch 7/10\n",
      " 99/100 [============================>.] - ETA: 0s - loss: 5.2318e-04\n",
      "Epoch 00007: val_loss improved from 0.00286 to 0.00280, saving model to 23_checkpoint.keras\n",
      "100/100 [==============================] - 31s 309ms/step - loss: 5.2325e-04 - val_loss: 0.0028\n",
      "Epoch 8/10\n",
      " 99/100 [============================>.] - ETA: 0s - loss: 5.2441e-04\n",
      "Epoch 00008: val_loss did not improve from 0.00280\n",
      "100/100 [==============================] - 39s 386ms/step - loss: 5.2472e-04 - val_loss: 0.0029\n",
      "Epoch 9/10\n",
      " 99/100 [============================>.] - ETA: 0s - loss: 5.2021e-04\n",
      "Epoch 00009: val_loss did not improve from 0.00280\n",
      "100/100 [==============================] - 35s 347ms/step - loss: 5.2024e-04 - val_loss: 0.0029\n",
      "Epoch 10/10\n",
      " 99/100 [============================>.] - ETA: 0s - loss: 5.1712e-04\n",
      "Epoch 00010: val_loss did not improve from 0.00280\n",
      "100/100 [==============================] - 29s 288ms/step - loss: 5.1698e-04 - val_loss: 0.0029\n",
      "_________________________________________________________________\n",
      "Layer (type)                 Output Shape              Param #   \n",
      "=================================================================\n",
      "gru_1 (GRU)                  (None, None, 50)          9300      \n",
      "_________________________________________________________________\n",
      "dense_1 (Dense)              (None, None, 1)           51        \n",
      "=================================================================\n",
      "Total params: 9,351\n",
      "Trainable params: 9,351\n",
      "Non-trainable params: 0\n",
      "_________________________________________________________________\n",
      "Epoch 1/10\n",
      " 99/100 [============================>.] - ETA: 0s - loss: 0.0036\n",
      "Epoch 00001: val_loss did not improve from 0.00280\n",
      "100/100 [==============================] - 30s 305ms/step - loss: 0.0036 - val_loss: 0.0032\n",
      "Epoch 2/10\n",
      " 99/100 [============================>.] - ETA: 0s - loss: 0.0016\n",
      "Epoch 00002: val_loss did not improve from 0.00280\n",
      "\n",
      "Epoch 00002: ReduceLROnPlateau reducing learning rate to 0.00010000000475.\n",
      "100/100 [==============================] - 29s 288ms/step - loss: 0.0016 - val_loss: 0.0031\n",
      "Epoch 3/10\n",
      " 99/100 [============================>.] - ETA: 0s - loss: 5.9260e-04\n",
      "Epoch 00003: val_loss did not improve from 0.00280\n",
      "\n",
      "Epoch 00003: ReduceLROnPlateau reducing learning rate to 0.0001.\n",
      "100/100 [==============================] - 29s 287ms/step - loss: 5.9246e-04 - val_loss: 0.0045\n",
      "Epoch 4/10\n",
      " 99/100 [============================>.] - ETA: 0s - loss: 5.6365e-04\n",
      "Epoch 00004: val_loss did not improve from 0.00280\n",
      "100/100 [==============================] - 29s 286ms/step - loss: 5.6327e-04 - val_loss: 0.0051\n",
      "Epoch 5/10\n",
      " 99/100 [============================>.] - ETA: 0s - loss: 5.6110e-04\n",
      "Epoch 00005: val_loss did not improve from 0.00280\n",
      "100/100 [==============================] - 29s 285ms/step - loss: 5.6106e-04 - val_loss: 0.0045\n",
      "Epoch 6/10\n",
      " 99/100 [============================>.] - ETA: 0s - loss: 5.5575e-04\n",
      "Epoch 00006: val_loss did not improve from 0.00280\n",
      "100/100 [==============================] - 30s 297ms/step - loss: 5.5596e-04 - val_loss: 0.0036\n",
      "Epoch 7/10\n",
      " 99/100 [============================>.] - ETA: 0s - loss: 5.5150e-04\n",
      "Epoch 00007: val_loss did not improve from 0.00280\n",
      "100/100 [==============================] - 29s 287ms/step - loss: 5.5153e-04 - val_loss: 0.0038\n",
      "Epoch 00007: early stopping\n",
      "_________________________________________________________________\n",
      "Layer (type)                 Output Shape              Param #   \n",
      "=================================================================\n",
      "gru_2 (GRU)                  (None, None, 550)         927300    \n",
      "_________________________________________________________________\n",
      "dense_2 (Dense)              (None, None, 1)           551       \n",
      "=================================================================\n",
      "Total params: 927,851\n",
      "Trainable params: 927,851\n",
      "Non-trainable params: 0\n",
      "_________________________________________________________________\n",
      "Epoch 1/10\n",
      " 99/100 [============================>.] - ETA: 2s - loss: 0.0159\n",
      "Epoch 00001: val_loss did not improve from 0.00280\n",
      "100/100 [==============================] - 227s 2s/step - loss: 0.0157 - val_loss: 0.0042\n",
      "Epoch 2/10\n",
      " 99/100 [============================>.] - ETA: 2s - loss: 0.0022\n",
      "Epoch 00002: val_loss did not improve from 0.00280\n",
      "100/100 [==============================] - 267s 3s/step - loss: 0.0021 - val_loss: 0.0038\n",
      "Epoch 3/10\n",
      " 99/100 [============================>.] - ETA: 2s - loss: 0.0017\n",
      "Epoch 00003: val_loss did not improve from 0.00280\n",
      "100/100 [==============================] - 249s 2s/step - loss: 0.0016 - val_loss: 0.0030\n",
      "Epoch 4/10\n",
      " 99/100 [============================>.] - ETA: 2s - loss: 0.0012\n",
      "Epoch 00004: val_loss did not improve from 0.00280\n",
      "\n",
      "Epoch 00004: ReduceLROnPlateau reducing learning rate to 0.00010000000475.\n",
      "100/100 [==============================] - 256s 3s/step - loss: 0.0012 - val_loss: 0.0082\n",
      "Epoch 5/10\n",
      " 99/100 [============================>.] - ETA: 2s - loss: 5.4850e-04\n",
      "Epoch 00005: val_loss did not improve from 0.00280\n",
      "100/100 [==============================] - 241s 2s/step - loss: 5.4830e-04 - val_loss: 0.0029\n",
      "Epoch 6/10\n",
      " 99/100 [============================>.] - ETA: 2s - loss: 5.2711e-04\n",
      "Epoch 00006: val_loss did not improve from 0.00280\n",
      "\n",
      "Epoch 00006: ReduceLROnPlateau reducing learning rate to 0.0001.\n",
      "100/100 [==============================] - 257s 3s/step - loss: 5.2702e-04 - val_loss: 0.0033\n",
      "Epoch 7/10\n",
      " 99/100 [============================>.] - ETA: 2s - loss: 5.1603e-04\n",
      "Epoch 00007: val_loss improved from 0.00280 to 0.00279, saving model to 23_checkpoint.keras\n",
      "100/100 [==============================] - 255s 3s/step - loss: 5.1616e-04 - val_loss: 0.0028\n",
      "Epoch 8/10\n",
      " 99/100 [============================>.] - ETA: 2s - loss: 5.1084e-04\n",
      "Epoch 00008: val_loss did not improve from 0.00279\n",
      "100/100 [==============================] - 266s 3s/step - loss: 5.1086e-04 - val_loss: 0.0032\n",
      "Epoch 9/10\n",
      " 99/100 [============================>.] - ETA: 2s - loss: 5.1112e-04\n",
      "Epoch 00009: val_loss did not improve from 0.00279\n",
      "100/100 [==============================] - 258s 3s/step - loss: 5.1112e-04 - val_loss: 0.0029\n",
      "Epoch 10/10\n",
      " 99/100 [============================>.] - ETA: 2s - loss: 5.0719e-04\n",
      "Epoch 00010: val_loss did not improve from 0.00279\n",
      "100/100 [==============================] - 245s 2s/step - loss: 5.0691e-04 - val_loss: 0.0039\n"
     ]
    },
    {
     "name": "stderr",
     "output_type": "stream",
     "text": [
      "/Users/kuoweichiao/miniconda3/lib/python2.7/site-packages/sklearn/gaussian_process/gpr.py:357: UserWarning: Predicted variances smaller than 0. Setting those variances to 0.\n",
      "  warnings.warn(\"Predicted variances smaller than 0. \"\n"
     ]
    },
    {
     "name": "stdout",
     "output_type": "stream",
     "text": [
      "_________________________________________________________________\n",
      "Layer (type)                 Output Shape              Param #   \n",
      "=================================================================\n",
      "gru_3 (GRU)                  (None, None, 300)         280800    \n",
      "_________________________________________________________________\n",
      "dense_3 (Dense)              (None, None, 1)           301       \n",
      "=================================================================\n",
      "Total params: 281,101\n",
      "Trainable params: 281,101\n",
      "Non-trainable params: 0\n",
      "_________________________________________________________________\n",
      "Epoch 1/10\n",
      " 99/100 [============================>.] - ETA: 1s - loss: 0.0080\n",
      "Epoch 00001: val_loss did not improve from 0.00279\n",
      "100/100 [==============================] - 128s 1s/step - loss: 0.0080 - val_loss: 0.0110\n",
      "Epoch 2/10\n",
      " 99/100 [============================>.] - ETA: 1s - loss: 0.0019\n",
      "Epoch 00002: val_loss did not improve from 0.00279\n",
      "100/100 [==============================] - 122s 1s/step - loss: 0.0019 - val_loss: 0.0043\n",
      "Epoch 3/10\n",
      " 99/100 [============================>.] - ETA: 1s - loss: 0.0013\n",
      "Epoch 00003: val_loss did not improve from 0.00279\n",
      "\n",
      "Epoch 00003: ReduceLROnPlateau reducing learning rate to 0.00010000000475.\n",
      "100/100 [==============================] - 122s 1s/step - loss: 0.0013 - val_loss: 0.0056\n",
      "Epoch 4/10\n",
      " 99/100 [============================>.] - ETA: 1s - loss: 5.5551e-04\n",
      "Epoch 00004: val_loss improved from 0.00279 to 0.00275, saving model to 23_checkpoint.keras\n",
      "100/100 [==============================] - 122s 1s/step - loss: 5.5523e-04 - val_loss: 0.0028\n",
      "Epoch 5/10\n",
      " 99/100 [============================>.] - ETA: 1s - loss: 5.3049e-04\n",
      "Epoch 00005: val_loss did not improve from 0.00275\n",
      "\n",
      "Epoch 00005: ReduceLROnPlateau reducing learning rate to 0.0001.\n",
      "100/100 [==============================] - 122s 1s/step - loss: 5.3060e-04 - val_loss: 0.0028\n",
      "Epoch 6/10\n",
      " 99/100 [============================>.] - ETA: 1s - loss: 5.2799e-04\n",
      "Epoch 00006: val_loss improved from 0.00275 to 0.00264, saving model to 23_checkpoint.keras\n",
      "100/100 [==============================] - 121s 1s/step - loss: 5.2790e-04 - val_loss: 0.0026\n",
      "Epoch 7/10\n",
      " 99/100 [============================>.] - ETA: 1s - loss: 5.2342e-04\n",
      "Epoch 00007: val_loss did not improve from 0.00264\n",
      "100/100 [==============================] - 120s 1s/step - loss: 5.2369e-04 - val_loss: 0.0027\n",
      "Epoch 8/10\n",
      " 99/100 [============================>.] - ETA: 1s - loss: 5.1534e-04\n",
      "Epoch 00008: val_loss did not improve from 0.00264\n",
      "100/100 [==============================] - 120s 1s/step - loss: 5.1573e-04 - val_loss: 0.0026\n",
      "Epoch 9/10\n",
      " 99/100 [============================>.] - ETA: 1s - loss: 5.1399e-04\n",
      "Epoch 00009: val_loss did not improve from 0.00264\n",
      "100/100 [==============================] - 120s 1s/step - loss: 5.1406e-04 - val_loss: 0.0031\n",
      "Epoch 10/10\n",
      " 99/100 [============================>.] - ETA: 1s - loss: 5.1155e-04\n",
      "Epoch 00010: val_loss did not improve from 0.00264\n",
      "100/100 [==============================] - 120s 1s/step - loss: 5.1183e-04 - val_loss: 0.0028\n",
      "_________________________________________________________________\n",
      "Layer (type)                 Output Shape              Param #   \n",
      "=================================================================\n",
      "gru_4 (GRU)                  (None, None, 428)         564960    \n",
      "_________________________________________________________________\n",
      "dense_4 (Dense)              (None, None, 1)           429       \n",
      "=================================================================\n",
      "Total params: 565,389\n",
      "Trainable params: 565,389\n",
      "Non-trainable params: 0\n",
      "_________________________________________________________________\n",
      "Epoch 1/10\n",
      " 99/100 [============================>.] - ETA: 1s - loss: 0.1870\n",
      "Epoch 00001: val_loss did not improve from 0.00264\n",
      "100/100 [==============================] - 179s 2s/step - loss: 0.1871 - val_loss: 1.3611\n",
      "Epoch 2/10\n",
      " 99/100 [============================>.] - ETA: 1s - loss: 0.1878\n",
      "Epoch 00002: val_loss did not improve from 0.00264\n",
      "\n",
      "Epoch 00002: ReduceLROnPlateau reducing learning rate to 0.00010000000475.\n",
      "100/100 [==============================] - 198s 2s/step - loss: 0.1881 - val_loss: 1.3611\n",
      "Epoch 3/10\n",
      " 99/100 [============================>.] - ETA: 1s - loss: 0.1862\n",
      "Epoch 00003: val_loss did not improve from 0.00264\n",
      "\n",
      "Epoch 00003: ReduceLROnPlateau reducing learning rate to 0.0001.\n",
      "100/100 [==============================] - 192s 2s/step - loss: 0.1863 - val_loss: 1.3611\n",
      "Epoch 4/10\n",
      " 99/100 [============================>.] - ETA: 1s - loss: 0.1867\n",
      "Epoch 00004: val_loss did not improve from 0.00264\n",
      "100/100 [==============================] - 193s 2s/step - loss: 0.1866 - val_loss: 1.3611\n",
      "Epoch 5/10\n",
      " 99/100 [============================>.] - ETA: 1s - loss: 0.1869\n",
      "Epoch 00005: val_loss did not improve from 0.00264\n",
      "100/100 [==============================] - 196s 2s/step - loss: 0.1868 - val_loss: 1.3611\n",
      "Epoch 6/10\n",
      " 99/100 [============================>.] - ETA: 1s - loss: 0.1879\n",
      "Epoch 00006: val_loss did not improve from 0.00264\n",
      "100/100 [==============================] - 193s 2s/step - loss: 0.1880 - val_loss: 1.3611\n",
      "Epoch 00006: early stopping\n",
      "_________________________________________________________________\n",
      "Layer (type)                 Output Shape              Param #   \n",
      "=================================================================\n",
      "gru_5 (GRU)                  (None, None, 203)         130935    \n",
      "_________________________________________________________________\n",
      "dense_5 (Dense)              (None, None, 1)           204       \n",
      "=================================================================\n",
      "Total params: 131,139\n",
      "Trainable params: 131,139\n",
      "Non-trainable params: 0\n",
      "_________________________________________________________________\n",
      "Epoch 1/10\n",
      " 99/100 [============================>.] - ETA: 0s - loss: 0.0067\n",
      "Epoch 00001: val_loss did not improve from 0.00264\n",
      "100/100 [==============================] - 87s 869ms/step - loss: 0.0066 - val_loss: 0.0046\n",
      "Epoch 2/10\n",
      " 99/100 [============================>.] - ETA: 0s - loss: 0.0020\n",
      "Epoch 00002: val_loss did not improve from 0.00264\n",
      "\n",
      "Epoch 00002: ReduceLROnPlateau reducing learning rate to 0.00010000000475.\n",
      "100/100 [==============================] - 85s 850ms/step - loss: 0.0020 - val_loss: 0.0080\n",
      "Epoch 3/10\n",
      " 99/100 [============================>.] - ETA: 0s - loss: 5.8669e-04\n",
      "Epoch 00003: val_loss improved from 0.00264 to 0.00261, saving model to 23_checkpoint.keras\n",
      "100/100 [==============================] - 86s 859ms/step - loss: 5.8624e-04 - val_loss: 0.0026\n",
      "Epoch 4/10\n",
      " 99/100 [============================>.] - ETA: 0s - loss: 5.4582e-04\n",
      "Epoch 00004: val_loss did not improve from 0.00261\n",
      "\n",
      "Epoch 00004: ReduceLROnPlateau reducing learning rate to 0.0001.\n",
      "100/100 [==============================] - 88s 884ms/step - loss: 5.4546e-04 - val_loss: 0.0027\n",
      "Epoch 5/10\n",
      " 99/100 [============================>.] - ETA: 0s - loss: 5.4237e-04\n",
      "Epoch 00005: val_loss did not improve from 0.00261\n",
      "100/100 [==============================] - 82s 823ms/step - loss: 5.4253e-04 - val_loss: 0.0029\n",
      "Epoch 6/10\n",
      " 99/100 [============================>.] - ETA: 0s - loss: 5.3513e-04\n",
      "Epoch 00006: val_loss improved from 0.00261 to 0.00261, saving model to 23_checkpoint.keras\n",
      "100/100 [==============================] - 82s 819ms/step - loss: 5.3504e-04 - val_loss: 0.0026\n",
      "Epoch 7/10\n",
      " 99/100 [============================>.] - ETA: 0s - loss: 5.3104e-04\n",
      "Epoch 00007: val_loss did not improve from 0.00261\n",
      "100/100 [==============================] - 87s 868ms/step - loss: 5.3112e-04 - val_loss: 0.0026\n",
      "Epoch 8/10\n",
      " 99/100 [============================>.] - ETA: 0s - loss: 5.3301e-04\n",
      "Epoch 00008: val_loss did not improve from 0.00261\n",
      "100/100 [==============================] - 80s 799ms/step - loss: 5.3310e-04 - val_loss: 0.0026\n",
      "Epoch 9/10\n",
      " 99/100 [============================>.] - ETA: 0s - loss: 5.2729e-04\n",
      "Epoch 00009: val_loss did not improve from 0.00261\n",
      "100/100 [==============================] - 81s 810ms/step - loss: 5.2751e-04 - val_loss: 0.0031\n",
      "Epoch 10/10\n",
      " 99/100 [============================>.] - ETA: 0s - loss: 5.2791e-04\n",
      "Epoch 00010: val_loss did not improve from 0.00261\n",
      "100/100 [==============================] - 87s 868ms/step - loss: 5.2739e-04 - val_loss: 0.0030\n"
     ]
    },
    {
     "name": "stdout",
     "output_type": "stream",
     "text": [
      "_________________________________________________________________\n",
      "Layer (type)                 Output Shape              Param #   \n",
      "=================================================================\n",
      "gru_6 (GRU)                  (None, None, 259)         210567    \n",
      "_________________________________________________________________\n",
      "dense_6 (Dense)              (None, None, 1)           260       \n",
      "=================================================================\n",
      "Total params: 210,827\n",
      "Trainable params: 210,827\n",
      "Non-trainable params: 0\n",
      "_________________________________________________________________\n",
      "Epoch 1/10\n",
      " 99/100 [============================>.] - ETA: 1s - loss: 0.0079\n",
      "Epoch 00001: val_loss did not improve from 0.00261\n",
      "100/100 [==============================] - 112s 1s/step - loss: 0.0078 - val_loss: 0.0202\n",
      "Epoch 2/10\n",
      " 99/100 [============================>.] - ETA: 1s - loss: 0.0019\n",
      "Epoch 00002: val_loss did not improve from 0.00261\n",
      "100/100 [==============================] - 120s 1s/step - loss: 0.0019 - val_loss: 0.0052\n",
      "Epoch 3/10\n",
      " 99/100 [============================>.] - ETA: 1s - loss: 0.0013\n",
      "Epoch 00003: val_loss did not improve from 0.00261\n",
      "\n",
      "Epoch 00003: ReduceLROnPlateau reducing learning rate to 0.00010000000475.\n",
      "100/100 [==============================] - 121s 1s/step - loss: 0.0013 - val_loss: 0.0055\n",
      "Epoch 4/10\n",
      " 99/100 [============================>.] - ETA: 1s - loss: 5.6329e-04\n",
      "Epoch 00004: val_loss did not improve from 0.00261\n",
      "100/100 [==============================] - 119s 1s/step - loss: 5.6305e-04 - val_loss: 0.0032\n",
      "Epoch 5/10\n",
      " 99/100 [============================>.] - ETA: 1s - loss: 5.2862e-04\n",
      "Epoch 00005: val_loss did not improve from 0.00261\n",
      "\n",
      "Epoch 00005: ReduceLROnPlateau reducing learning rate to 0.0001.\n",
      "100/100 [==============================] - 115s 1s/step - loss: 5.2833e-04 - val_loss: 0.0032\n",
      "Epoch 6/10\n",
      " 99/100 [============================>.] - ETA: 1s - loss: 5.2379e-04\n",
      "Epoch 00006: val_loss did not improve from 0.00261\n",
      "100/100 [==============================] - 115s 1s/step - loss: 5.2414e-04 - val_loss: 0.0027\n",
      "Epoch 7/10\n",
      " 99/100 [============================>.] - ETA: 1s - loss: 5.2221e-04\n",
      "Epoch 00007: val_loss did not improve from 0.00261\n",
      "100/100 [==============================] - 115s 1s/step - loss: 5.2228e-04 - val_loss: 0.0028\n",
      "Epoch 8/10\n",
      " 99/100 [============================>.] - ETA: 1s - loss: 5.1604e-04\n",
      "Epoch 00008: val_loss did not improve from 0.00261\n",
      "100/100 [==============================] - 117s 1s/step - loss: 5.1616e-04 - val_loss: 0.0029\n",
      "Epoch 9/10\n",
      " 99/100 [============================>.] - ETA: 1s - loss: 5.1502e-04\n",
      "Epoch 00009: val_loss did not improve from 0.00261\n",
      "100/100 [==============================] - 110s 1s/step - loss: 5.1517e-04 - val_loss: 0.0030\n",
      "Epoch 10/10\n",
      " 99/100 [============================>.] - ETA: 1s - loss: 5.1214e-04\n",
      "Epoch 00010: val_loss did not improve from 0.00261\n",
      "100/100 [==============================] - 110s 1s/step - loss: 5.1225e-04 - val_loss: 0.0036\n",
      "_________________________________________________________________\n",
      "Layer (type)                 Output Shape              Param #   \n",
      "=================================================================\n",
      "gru_7 (GRU)                  (None, None, 121)         48279     \n",
      "_________________________________________________________________\n",
      "dense_7 (Dense)              (None, None, 1)           122       \n",
      "=================================================================\n",
      "Total params: 48,401\n",
      "Trainable params: 48,401\n",
      "Non-trainable params: 0\n",
      "_________________________________________________________________\n",
      "Epoch 1/10\n",
      " 99/100 [============================>.] - ETA: 0s - loss: 0.1877\n",
      "Epoch 00001: val_loss did not improve from 0.00261\n",
      "100/100 [==============================] - 63s 633ms/step - loss: 0.1877 - val_loss: 1.3611\n",
      "Epoch 2/10\n",
      " 99/100 [============================>.] - ETA: 0s - loss: 0.1863\n",
      "Epoch 00002: val_loss did not improve from 0.00261\n",
      "\n",
      "Epoch 00002: ReduceLROnPlateau reducing learning rate to 0.00010000000475.\n",
      "100/100 [==============================] - 58s 581ms/step - loss: 0.1864 - val_loss: 1.3611\n",
      "Epoch 3/10\n",
      " 99/100 [============================>.] - ETA: 0s - loss: 0.1865\n",
      "Epoch 00003: val_loss did not improve from 0.00261\n",
      "\n",
      "Epoch 00003: ReduceLROnPlateau reducing learning rate to 0.0001.\n",
      "100/100 [==============================] - 57s 570ms/step - loss: 0.1865 - val_loss: 1.3611\n",
      "Epoch 4/10\n",
      " 99/100 [============================>.] - ETA: 0s - loss: 0.1839\n",
      "Epoch 00004: val_loss did not improve from 0.00261\n",
      "100/100 [==============================] - 60s 597ms/step - loss: 0.1839 - val_loss: 1.3611\n",
      "Epoch 5/10\n",
      " 99/100 [============================>.] - ETA: 0s - loss: 0.1847\n",
      "Epoch 00005: val_loss did not improve from 0.00261\n",
      "100/100 [==============================] - 58s 576ms/step - loss: 0.1844 - val_loss: 1.3611\n",
      "Epoch 6/10\n",
      " 99/100 [============================>.] - ETA: 0s - loss: 0.1862\n",
      "Epoch 00006: val_loss did not improve from 0.00261\n",
      "100/100 [==============================] - 56s 559ms/step - loss: 0.1862 - val_loss: 1.3611\n",
      "Epoch 00006: early stopping\n",
      "_________________________________________________________________\n",
      "Layer (type)                 Output Shape              Param #   \n",
      "=================================================================\n",
      "gru_8 (GRU)                  (None, None, 536)         881184    \n",
      "_________________________________________________________________\n",
      "dense_8 (Dense)              (None, None, 1)           537       \n",
      "=================================================================\n",
      "Total params: 881,721\n",
      "Trainable params: 881,721\n",
      "Non-trainable params: 0\n",
      "_________________________________________________________________\n",
      "Epoch 1/10\n",
      " 99/100 [============================>.] - ETA: 2s - loss: 0.0157\n",
      "Epoch 00001: val_loss did not improve from 0.00261\n",
      "100/100 [==============================] - 258s 3s/step - loss: 0.0156 - val_loss: 0.0464\n",
      "Epoch 2/10\n",
      " 99/100 [============================>.] - ETA: 2s - loss: 0.0021\n",
      "Epoch 00002: val_loss did not improve from 0.00261\n",
      "100/100 [==============================] - 252s 3s/step - loss: 0.0021 - val_loss: 0.0154\n",
      "Epoch 3/10\n",
      " 99/100 [============================>.] - ETA: 2s - loss: 0.0015\n",
      "Epoch 00003: val_loss did not improve from 0.00261\n",
      "100/100 [==============================] - 261s 3s/step - loss: 0.0015 - val_loss: 0.0028\n",
      "Epoch 4/10\n",
      " 99/100 [============================>.] - ETA: 2s - loss: 0.0013\n",
      "Epoch 00004: val_loss did not improve from 0.00261\n",
      "\n",
      "Epoch 00004: ReduceLROnPlateau reducing learning rate to 0.00010000000475.\n",
      "100/100 [==============================] - 256s 3s/step - loss: 0.0013 - val_loss: 0.0030\n",
      "Epoch 5/10\n",
      " 99/100 [============================>.] - ETA: 2s - loss: 5.3717e-04\n",
      "Epoch 00005: val_loss did not improve from 0.00261\n",
      "\n",
      "Epoch 00005: ReduceLROnPlateau reducing learning rate to 0.0001.\n",
      "100/100 [==============================] - 253s 3s/step - loss: 5.3703e-04 - val_loss: 0.0029\n",
      "Epoch 6/10\n",
      " 99/100 [============================>.] - ETA: 2s - loss: 5.2337e-04\n",
      "Epoch 00006: val_loss did not improve from 0.00261\n",
      "100/100 [==============================] - 269s 3s/step - loss: 5.2339e-04 - val_loss: 0.0028\n",
      "Epoch 7/10\n",
      " 99/100 [============================>.] - ETA: 2s - loss: 5.1958e-04\n",
      "Epoch 00007: val_loss did not improve from 0.00261\n",
      "100/100 [==============================] - 262s 3s/step - loss: 5.1923e-04 - val_loss: 0.0029\n",
      "Epoch 8/10\n",
      " 99/100 [============================>.] - ETA: 2s - loss: 5.1574e-04\n",
      "Epoch 00008: val_loss did not improve from 0.00261\n",
      "100/100 [==============================] - 266s 3s/step - loss: 5.1575e-04 - val_loss: 0.0033\n",
      "Epoch 9/10\n",
      " 99/100 [============================>.] - ETA: 2s - loss: 5.1131e-04\n",
      "Epoch 00009: val_loss did not improve from 0.00261\n",
      "100/100 [==============================] - 277s 3s/step - loss: 5.1158e-04 - val_loss: 0.0032\n",
      "Epoch 10/10\n",
      " 99/100 [============================>.] - ETA: 2s - loss: 5.0707e-04\n",
      "Epoch 00010: val_loss did not improve from 0.00261\n",
      "100/100 [==============================] - 255s 3s/step - loss: 5.0712e-04 - val_loss: 0.0029\n"
     ]
    }
   ],
   "source": [
    "# %%time\n",
    "for trial in study:\n",
    "    model = Sequential()\n",
    "    model.add(GRU(units=trial.parameters['num_units'],\n",
    "                  return_sequences=True,\n",
    "                  input_shape=(None, num_x_signals,)))\n",
    "    model.add(Dense(num_y_signals, activation='relu'))  \n",
    "    optimizer = RMSprop(lr=1e-3)\n",
    "    model.compile(loss=loss_mse_warmup, optimizer=optimizer)\n",
    "    model.summary()\n",
    "\n",
    "    history = model.fit_generator(generator=generator,\n",
    "                        epochs=10,\n",
    "                        steps_per_epoch=100,\n",
    "                        validation_data=validation_data,\n",
    "                        callbacks=callbacks + [study.keras_callback(trial, objective_name='val_loss')])\n",
    "\n",
    "    study.finalize(trial)"
   ]
  },
  {
   "cell_type": "code",
   "execution_count": 48,
   "metadata": {},
   "outputs": [
    {
     "name": "stdout",
     "output_type": "stream",
     "text": [
      "('Training time: ', 10407.486, 's')\n"
     ]
    }
   ],
   "source": [
    "print(\"Training time: \", round(time.time()-t0, 3), \"s\")"
   ]
  },
  {
   "cell_type": "markdown",
   "metadata": {},
   "source": [
    "### Load Checkpoint"
   ]
  },
  {
   "cell_type": "code",
   "execution_count": 49,
   "metadata": {},
   "outputs": [
    {
     "name": "stdout",
     "output_type": "stream",
     "text": [
      "Error trying to load checkpoint.\n",
      "Shapes (11, 1608) and (11, 609) are incompatible\n"
     ]
    }
   ],
   "source": [
    "try:\n",
    "    model.load_weights(path_checkpoint)\n",
    "except Exception as error:\n",
    "    print(\"Error trying to load checkpoint.\")\n",
    "    print(error)"
   ]
  },
  {
   "cell_type": "markdown",
   "metadata": {},
   "source": [
    "# Performance on Test-Set"
   ]
  },
  {
   "cell_type": "code",
   "execution_count": 50,
   "metadata": {},
   "outputs": [
    {
     "name": "stdout",
     "output_type": "stream",
     "text": [
      "\r",
      "1/1 [==============================] - 0s 421ms/step\n"
     ]
    }
   ],
   "source": [
    "loss = model.evaluate(x=np.expand_dims(x_test_scaled, axis=0),\n",
    "                        y=np.expand_dims(y_test_scaled, axis=0))"
   ]
  },
  {
   "cell_type": "code",
   "execution_count": 51,
   "metadata": {},
   "outputs": [
    {
     "name": "stdout",
     "output_type": "stream",
     "text": [
      "loss (test-set):0.00285938684829\n"
     ]
    }
   ],
   "source": [
    "print(\"loss (test-set):{0}\".format(loss))"
   ]
  },
  {
   "cell_type": "code",
   "execution_count": 52,
   "metadata": {},
   "outputs": [],
   "source": [
    "# If you have several metrics you can use this instead.\n",
    "if False:\n",
    "    for res, metric in zip(result, model.metrics_names):\n",
    "        print(\"{0}: {1:.3e}\".format(metric, res))"
   ]
  },
  {
   "cell_type": "markdown",
   "metadata": {},
   "source": [
    "# Generate Predictions"
   ]
  },
  {
   "cell_type": "code",
   "execution_count": 53,
   "metadata": {},
   "outputs": [],
   "source": [
    "def plot_comparison(start_idx, length=100, train=True):\n",
    "    \"\"\"\n",
    "    Plot the predicted and true output-signals.\n",
    "    \n",
    "    :param start_idx: Start-index for the time-series.\n",
    "    :param length: Sequence-length to process and plot.\n",
    "    :param train: Boolean whether to use training- or test-set.\n",
    "    \"\"\"\n",
    "    \n",
    "    if train:\n",
    "        # Use training-data.\n",
    "        x = x_train_scaled\n",
    "        y_true = y_train\n",
    "    else:\n",
    "        # Use test-data.\n",
    "        x = x_test_scaled\n",
    "        y_true = y_test\n",
    "    \n",
    "    # End-index for the sequences.\n",
    "    end_idx = start_idx + length\n",
    "    \n",
    "    # Select the sequences from the given start-index and\n",
    "    # of the given length.\n",
    "    x = x[start_idx:end_idx]\n",
    "    y_true = y_true[start_idx:end_idx]\n",
    "    \n",
    "    # Input-signals for the model.\n",
    "    x = np.expand_dims(x, axis=0)\n",
    "\n",
    "    # Use the model to predict the output-signals.\n",
    "    y_pred = model.predict(x)\n",
    "    print(\"y_pred length: \", len(y_pred))\n",
    "    print(\"y_true length: \",len(y_true))\n",
    "    \n",
    "    # The output of the model is between 0 and 1.\n",
    "    # Do an inverse map to get it back to the scale\n",
    "    # of the original data-set.\n",
    "    y_pred_rescaled = y_scaler.inverse_transform(y_pred[0])\n",
    "    print(\"y_pred_rescaled length: \", len(y_pred_rescaled))\n",
    "    print(\"Explained variance score (EVS): \", explained_variance_score(y_true, y_pred_rescaled))\n",
    "    \n",
    "    # For each output-signal.\n",
    "    for signal in range(len(target_col)):\n",
    "        # Get the output-signal predicted by the model.\n",
    "        signal_pred = y_pred_rescaled[:, signal]\n",
    "        \n",
    "        # Get the true output-signal from the data-set.\n",
    "        signal_true = y_true[:, signal]\n",
    "\n",
    "        # Make the plotting-canvas bigger.\n",
    "        plt.figure(figsize=(15,5))\n",
    "        \n",
    "        # Plot and compare the two signals.\n",
    "        plt.plot(signal_true, label='true')\n",
    "        plt.plot(signal_pred, label='pred')\n",
    "        \n",
    "        # Plot grey box for warmup-period.\n",
    "        p = plt.axvspan(0, warmup_steps, facecolor='black', alpha=0.15)\n",
    "        \n",
    "        # Plot labels etc.\n",
    "        #plt.ylabel(target_names[signal])\n",
    "        plt.ylabel('TSM Average')\n",
    "        plt.legend()\n",
    "        plt.show()"
   ]
  },
  {
   "cell_type": "code",
   "execution_count": 54,
   "metadata": {},
   "outputs": [
    {
     "name": "stdout",
     "output_type": "stream",
     "text": [
      "('y_pred length: ', 1)\n",
      "('y_true length: ', 1200)\n",
      "('y_pred_rescaled length: ', 1200)\n",
      "('Explained variance score (EVS): ', 0.9823845369466171)\n"
     ]
    },
    {
     "data": {
      "image/png": "[encoded data removed]",
      "text/plain": [
       "<Figure size 1080x360 with 1 Axes>"
      ]
     },
     "metadata": {
      "needs_background": "light"
     },
     "output_type": "display_data"
    }
   ],
   "source": [
    "plot_comparison(start_idx=0, length=1200, train=True)"
   ]
  },
  {
   "cell_type": "markdown",
   "metadata": {},
   "source": [
    "### Example from Test-Set"
   ]
  },
  {
   "cell_type": "code",
   "execution_count": 55,
   "metadata": {},
   "outputs": [
    {
     "name": "stdout",
     "output_type": "stream",
     "text": [
      "('y_pred length: ', 1)\n",
      "('y_true length: ', 260)\n",
      "('y_pred_rescaled length: ', 260)\n",
      "('Explained variance score (EVS): ', 0.8000037208750523)\n"
     ]
    },
    {
     "data": {
      "image/png": "[encoded data removed]",
      "text/plain": [
       "<Figure size 1080x360 with 1 Axes>"
      ]
     },
     "metadata": {
      "needs_background": "light"
     },
     "output_type": "display_data"
    }
   ],
   "source": [
    "plot_comparison(start_idx=0, length=260, train=False)"
   ]
  },
  {
   "cell_type": "markdown",
   "metadata": {},
   "source": [
    "### Summarize history of loss"
   ]
  },
  {
   "cell_type": "code",
   "execution_count": 56,
   "metadata": {},
   "outputs": [
    {
     "name": "stderr",
     "output_type": "stream",
     "text": [
      "DEBUG:matplotlib.font_manager:findfont: Matching :family=sans-serif:style=normal:variant=normal:weight=normal:stretch=normal:size=12.0 to DejaVu Sans (u'/usr/local/lib/python2.7/site-packages/matplotlib/mpl-data/fonts/ttf/DejaVuSans.ttf') with score of 0.050000\n"
     ]
    },
    {
     "data": {
      "image/png": "[encoded data removed]",
      "text/plain": [
       "<Figure size 432x288 with 1 Axes>"
      ]
     },
     "metadata": {
      "needs_background": "light"
     },
     "output_type": "display_data"
    }
   ],
   "source": [
    "plt.plot(history.history['loss'])\n",
    "plt.plot(history.history['val_loss'])\n",
    "plt.title('model loss')\n",
    "plt.ylabel('loss')\n",
    "plt.xlabel('epoch')\n",
    "plt.legend(['train', 'test'], loc='upper left')\n",
    "plt.show()"
   ]
  },
  {
   "cell_type": "code",
   "execution_count": null,
   "metadata": {},
   "outputs": [],
   "source": []
  }
 ],
 "metadata": {
  "kernelspec": {
   "display_name": "Python 2",
   "language": "python",
   "name": "python2"
  },
  "language_info": {
   "codemirror_mode": {
    "name": "ipython",
    "version": 2
   },
   "file_extension": ".py",
   "mimetype": "text/x-python",
   "name": "python",
   "nbconvert_exporter": "python",
   "pygments_lexer": "ipython2",
   "version": "2.7.15"
  }
 },
 "nbformat": 4,
 "nbformat_minor": 2
}
